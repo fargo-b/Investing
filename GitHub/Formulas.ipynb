{
 "cells": [
  {
   "cell_type": "markdown",
   "id": "82afcb13-fed6-4bd2-8c15-de1a3732303d",
   "metadata": {},
   "source": [
    "# High Level breakdown of financial models and formulas"
   ]
  },
  {
   "cell_type": "markdown",
   "id": "86279377-a143-46ea-998d-e5ee1c088905",
   "metadata": {},
   "source": []
  }
 ],
 "metadata": {
  "kernelspec": {
   "display_name": "Python 3 (ipykernel)",
   "language": "python",
   "name": "python3"
  },
  "language_info": {
   "codemirror_mode": {
    "name": "ipython",
    "version": 3
   },
   "file_extension": ".py",
   "mimetype": "text/x-python",
   "name": "python",
   "nbconvert_exporter": "python",
   "pygments_lexer": "ipython3",
   "version": "3.12.4"
  }
 },
 "nbformat": 4,
 "nbformat_minor": 5
}
