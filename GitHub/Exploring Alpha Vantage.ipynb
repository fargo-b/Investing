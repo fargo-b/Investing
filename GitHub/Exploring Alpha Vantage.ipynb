{
 "cells": [
  {
   "cell_type": "markdown",
   "id": "4c29b714-3ab4-4a99-8bc2-7181272b86d3",
   "metadata": {},
   "source": [
    "# Exploring the uses of the Alpha Vantage APi"
   ]
  },
  {
   "cell_type": "code",
   "execution_count": null,
   "id": "315a651e-8299-46dd-86ae-7dd465d351b7",
   "metadata": {},
   "outputs": [],
   "source": []
  }
 ],
 "metadata": {
  "kernelspec": {
   "display_name": "Python 3 (ipykernel)",
   "language": "python",
   "name": "python3"
  },
  "language_info": {
   "codemirror_mode": {
    "name": "ipython",
    "version": 3
   },
   "file_extension": ".py",
   "mimetype": "text/x-python",
   "name": "python",
   "nbconvert_exporter": "python",
   "pygments_lexer": "ipython3",
   "version": "3.12.4"
  }
 },
 "nbformat": 4,
 "nbformat_minor": 5
}
