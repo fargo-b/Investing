{
 "cells": [
  {
   "cell_type": "markdown",
   "id": "2c7e84a9-8cd1-4a76-a221-2e5c6027d860",
   "metadata": {},
   "source": [
    "## Using VaR and CVaR as a risk management tool for a portfolio of ETFs"
   ]
  },
  {
   "cell_type": "code",
   "execution_count": 49,
   "id": "e03b42c6-a3eb-4fa8-a30b-48ea0cf1ff62",
   "metadata": {},
   "outputs": [
    {
     "name": "stderr",
     "output_type": "stream",
     "text": [
      "[*********************100%%**********************]  7 of 7 completed"
     ]
    },
    {
     "name": "stdout",
     "output_type": "stream",
     "text": [
      "Parametric VaR at 95.0% confidence level: -0.94%\n",
      "Conditional VaR (CVaR) at 95.0% confidence level: 1.18%\n"
     ]
    },
    {
     "name": "stderr",
     "output_type": "stream",
     "text": [
      "\n"
     ]
    },
    {
     "data": {
      "application/vnd.plotly.v1+json": {
       "config": {
        "plotlyServerURL": "https://plot.ly"
       },
       "data": [
        {
         "histnorm": "probability",
         "name": "Returns",
         "nbinsx": 50,
         "type": "histogram",
         "x": [
          0.005109079918604128,
          0.0036730053255481024,
          0.0008327636090400866,
          0.0031641466404272855,
          -0.004606488044081544,
          0.010195761595434703,
          0.003942677474027053,
          0.0032182755103961702,
          0.001375508058523838,
          -0.005450959794911979,
          -0.009067400991388046,
          -0.007824942019928734,
          0.008286893631187921,
          0.011249098643311646,
          0.0035198943481816736,
          -0.009462278517295435,
          0.004649596926620623,
          0.00021059531747388404,
          -0.005736357498469473,
          0.0036846593185045273,
          0.0018208869631125874,
          0.011644084867269804,
          0.00553062590969487,
          -0.00618993824316451,
          0.0007195858407080492,
          -0.003346998594880364,
          -0.002737978399304262,
          -0.002612776002632639,
          0.0002561710914965439,
          -0.005279509972072937,
          0.011523499645514355,
          0.0018944409902621,
          -0.01070486963879001,
          0.0025761121469756016,
          -0.017687350993654306,
          -0.0008314528509619461,
          -0.00026934019940334195,
          -0.0035184516605806233,
          -0.00011061585528748807,
          -0.00781079507523617,
          0.012580571551109474,
          0.00736740650534002,
          0.009661564699845566,
          -0.0001935955738182455,
          -0.0007401390942151881,
          -0.0017821523134545609,
          -0.012579635846673463,
          -0.018952799785317897,
          -0.013910461598041116,
          0.005722329796847043,
          -0.00972785736779791,
          0.006540844350634637,
          -0.006199685752482324,
          -0.00405447748067749,
          0.010652299164789365,
          0.001619310247678569,
          -0.0010333909723594696,
          -0.0029124068824464594,
          -0.0017714079951195293,
          0.0011493048216294802,
          0.006338217543313984,
          0.0036034854004360585,
          0.007427476563961541,
          0.0015491583562246794,
          -0.008503383467744452,
          -0.0016459269422682199,
          0.00462137195071496,
          0.006849618876084484,
          -0.004622666400540987,
          0.0015831266010713576,
          0.001777318519792998,
          0.0082094566964263,
          -0.0016551403681189633,
          -0.005878206455607611,
          -0.003221275496745002,
          -0.004058744920769836,
          -0.003322714860564886,
          -0.0033149259623477256,
          -0.005238015438151452,
          -0.0008479086366134686,
          0.003300114659422815,
          -0.0026765948173897826,
          -0.0027512442840755664,
          -0.003907368983175674,
          0.0032830574185894737,
          0.00035810242303270707,
          0.0020960554043428937,
          0.003624055616192104,
          -0.001190478832524211,
          0.006690672028439203,
          -0.00291805738668235,
          -0.002450976410583053,
          0.0043651574871312404,
          -0.0013934084826478902,
          0.006450747319967927,
          -0.002745924484525264,
          -0.007060141595474332,
          -0.0028460057637418315,
          0.010398281041041822,
          -0.010216179808484804,
          -0.007394064080748909,
          0.004016394352831441,
          0.017300034466751574,
          0.002615004709120699,
          0.005967043244574278,
          0.00037870465287786245,
          -0.00621289197668546,
          -0.0024937275690993166,
          0.005700295322196053,
          0.0007909389760171987,
          -0.0014824624095344397,
          -0.0017614920470540823,
          -7.271639857528054e-05,
          -0.002653409204509405,
          -0.005627530256819882,
          0.0004734241744188681,
          -0.006574681277434958,
          -0.005533187186674663,
          0.0017234837618230433,
          0.0023743826482869957,
          0.009183899101023827,
          0.0017672845249128944,
          0.0018611307574598296,
          0.00657403113274037,
          -0.0008217822664865482,
          -0.0038393380712071446,
          -0.013940857714336858,
          0.0014740414756485572,
          0.0009407867624922232,
          0.000147105360519698,
          0.008214768784057882,
          -0.003727399412198732,
          -0.0022794016384900845,
          0.001596783309501415,
          0.005587997338669658,
          0.018804455930121887,
          -0.0017374580721181143,
          -1.9217681487588518e-05,
          0.006629612125201428,
          0.0008594024856196012,
          -0.003316988348645863,
          0.003672036589947366,
          0.008290134792356487,
          0.0025524712966134328,
          -2.3561554131095678e-05,
          -0.01045271376334229,
          0.0018553924247933147,
          -0.00039614364980162473,
          -0.005598301185965477,
          -0.004967711981126459,
          0.0022704902026249147,
          0.004595857033359898,
          -0.009818431762315782,
          -0.0009997196497871623,
          -0.008918724299096981,
          -0.0049707358287686765,
          -0.00432440148200784,
          -0.005714873689374511,
          -0.0009896876770891952,
          0.002810802969112165,
          0.011666984734405273,
          0.00358530840119848,
          0.00040854066392456305,
          0.01750906955413565,
          -0.0057872703271408185,
          0.003836427231353435,
          0.011060157553074277,
          -0.002868940120089694,
          0.0015886191528502298,
          -0.0008308471086635779,
          -0.0032409605829148667,
          0.0027623982128032027,
          0.00042758275287131057,
          0.0026543451080873748,
          -0.0014556223664838092,
          0.00950494809171119,
          -0.002426775072828815,
          -0.0008541204818221752,
          -0.0022966256324140144,
          0.0027422299529212984,
          -0.011188971167774462,
          0.00763561718561775,
          -0.0018713610818253002,
          -0.003170285366345877,
          0.0008448286737446906,
          -0.005358215520849616,
          0.0019928408822122035,
          -0.0032993781731283566,
          -0.006416268385601546,
          -0.009183092828687693,
          -0.003358279282923395,
          0.005396639813557805,
          0.005460049096358967,
          0.00971462221699526,
          -0.002918999306872434,
          0.0036654325268251787,
          0.0058401331881155405,
          0.0018498236004517797,
          0.0009842223570751658,
          -0.0027747281684897184,
          -0.00031472397077815723,
          -0.011574794471426984,
          -0.009264996927178797,
          0.006605424230307949,
          -0.003478010961719497,
          -0.0031822936574887883,
          -0.0016665118301778523,
          0.003088616761523642,
          -0.0004469770730057514,
          0.0033416781352850595,
          0.008485752376516385,
          0.0002855424204025105,
          -0.002357734911203676,
          0.003603211311558544,
          -0.0022992342010281774,
          0.0005597390723526592,
          -0.0009335360614270826,
          0.003446651297322055,
          0.002275663932068017,
          0.009451482605932426,
          -0.010182371118495688,
          0.0031698749138044614,
          0.00046771359876031577,
          -0.0032884257205062018,
          0.005504398580588503,
          -0.002968259547405824,
          -0.006406931793442441,
          -0.0027406384547579155,
          -0.00014493493324425303,
          -0.0004997229969947288,
          0.0025796069428163054,
          0.004402425405326474,
          -0.0004997124773221035,
          -0.0012299956362048182,
          0.002340192975352151,
          -0.00031768587914961406,
          0.001407309688062527,
          -0.0008632298347186801,
          -0.00021689170432546772,
          0.0023784177114695316,
          0.0056964209639861485,
          0.006911084624116968,
          0.0006156598986970678,
          0.0006735792047838837,
          0.0017091852194305154,
          -0.0002167539122561577,
          -0.005162066697016323,
          0.0051880205563884655,
          0.00884218543512965,
          -0.0022349381908681105
         ]
        },
        {
         "line": {
          "color": "red",
          "dash": "dash"
         },
         "mode": "lines",
         "name": "VaR",
         "type": "scatter",
         "x": [
          -0.009351712705869453,
          -0.009351712705869453
         ],
         "y": [
          0,
          0.1
         ]
        },
        {
         "line": {
          "color": "blue",
          "dash": "dash"
         },
         "mode": "lines",
         "name": "CVaR",
         "type": "scatter",
         "x": [
          0.011772194836726722,
          0.011772194836726722
         ],
         "y": [
          0,
          0.1
         ]
        }
       ],
       "layout": {
        "autosize": true,
        "template": {
         "data": {
          "bar": [
           {
            "error_x": {
             "color": "#2a3f5f"
            },
            "error_y": {
             "color": "#2a3f5f"
            },
            "marker": {
             "line": {
              "color": "#E5ECF6",
              "width": 0.5
             },
             "pattern": {
              "fillmode": "overlay",
              "size": 10,
              "solidity": 0.2
             }
            },
            "type": "bar"
           }
          ],
          "barpolar": [
           {
            "marker": {
             "line": {
              "color": "#E5ECF6",
              "width": 0.5
             },
             "pattern": {
              "fillmode": "overlay",
              "size": 10,
              "solidity": 0.2
             }
            },
            "type": "barpolar"
           }
          ],
          "carpet": [
           {
            "aaxis": {
             "endlinecolor": "#2a3f5f",
             "gridcolor": "white",
             "linecolor": "white",
             "minorgridcolor": "white",
             "startlinecolor": "#2a3f5f"
            },
            "baxis": {
             "endlinecolor": "#2a3f5f",
             "gridcolor": "white",
             "linecolor": "white",
             "minorgridcolor": "white",
             "startlinecolor": "#2a3f5f"
            },
            "type": "carpet"
           }
          ],
          "choropleth": [
           {
            "colorbar": {
             "outlinewidth": 0,
             "ticks": ""
            },
            "type": "choropleth"
           }
          ],
          "contour": [
           {
            "colorbar": {
             "outlinewidth": 0,
             "ticks": ""
            },
            "colorscale": [
             [
              0,
              "#0d0887"
             ],
             [
              0.1111111111111111,
              "#46039f"
             ],
             [
              0.2222222222222222,
              "#7201a8"
             ],
             [
              0.3333333333333333,
              "#9c179e"
             ],
             [
              0.4444444444444444,
              "#bd3786"
             ],
             [
              0.5555555555555556,
              "#d8576b"
             ],
             [
              0.6666666666666666,
              "#ed7953"
             ],
             [
              0.7777777777777778,
              "#fb9f3a"
             ],
             [
              0.8888888888888888,
              "#fdca26"
             ],
             [
              1,
              "#f0f921"
             ]
            ],
            "type": "contour"
           }
          ],
          "contourcarpet": [
           {
            "colorbar": {
             "outlinewidth": 0,
             "ticks": ""
            },
            "type": "contourcarpet"
           }
          ],
          "heatmap": [
           {
            "colorbar": {
             "outlinewidth": 0,
             "ticks": ""
            },
            "colorscale": [
             [
              0,
              "#0d0887"
             ],
             [
              0.1111111111111111,
              "#46039f"
             ],
             [
              0.2222222222222222,
              "#7201a8"
             ],
             [
              0.3333333333333333,
              "#9c179e"
             ],
             [
              0.4444444444444444,
              "#bd3786"
             ],
             [
              0.5555555555555556,
              "#d8576b"
             ],
             [
              0.6666666666666666,
              "#ed7953"
             ],
             [
              0.7777777777777778,
              "#fb9f3a"
             ],
             [
              0.8888888888888888,
              "#fdca26"
             ],
             [
              1,
              "#f0f921"
             ]
            ],
            "type": "heatmap"
           }
          ],
          "heatmapgl": [
           {
            "colorbar": {
             "outlinewidth": 0,
             "ticks": ""
            },
            "colorscale": [
             [
              0,
              "#0d0887"
             ],
             [
              0.1111111111111111,
              "#46039f"
             ],
             [
              0.2222222222222222,
              "#7201a8"
             ],
             [
              0.3333333333333333,
              "#9c179e"
             ],
             [
              0.4444444444444444,
              "#bd3786"
             ],
             [
              0.5555555555555556,
              "#d8576b"
             ],
             [
              0.6666666666666666,
              "#ed7953"
             ],
             [
              0.7777777777777778,
              "#fb9f3a"
             ],
             [
              0.8888888888888888,
              "#fdca26"
             ],
             [
              1,
              "#f0f921"
             ]
            ],
            "type": "heatmapgl"
           }
          ],
          "histogram": [
           {
            "marker": {
             "pattern": {
              "fillmode": "overlay",
              "size": 10,
              "solidity": 0.2
             }
            },
            "type": "histogram"
           }
          ],
          "histogram2d": [
           {
            "colorbar": {
             "outlinewidth": 0,
             "ticks": ""
            },
            "colorscale": [
             [
              0,
              "#0d0887"
             ],
             [
              0.1111111111111111,
              "#46039f"
             ],
             [
              0.2222222222222222,
              "#7201a8"
             ],
             [
              0.3333333333333333,
              "#9c179e"
             ],
             [
              0.4444444444444444,
              "#bd3786"
             ],
             [
              0.5555555555555556,
              "#d8576b"
             ],
             [
              0.6666666666666666,
              "#ed7953"
             ],
             [
              0.7777777777777778,
              "#fb9f3a"
             ],
             [
              0.8888888888888888,
              "#fdca26"
             ],
             [
              1,
              "#f0f921"
             ]
            ],
            "type": "histogram2d"
           }
          ],
          "histogram2dcontour": [
           {
            "colorbar": {
             "outlinewidth": 0,
             "ticks": ""
            },
            "colorscale": [
             [
              0,
              "#0d0887"
             ],
             [
              0.1111111111111111,
              "#46039f"
             ],
             [
              0.2222222222222222,
              "#7201a8"
             ],
             [
              0.3333333333333333,
              "#9c179e"
             ],
             [
              0.4444444444444444,
              "#bd3786"
             ],
             [
              0.5555555555555556,
              "#d8576b"
             ],
             [
              0.6666666666666666,
              "#ed7953"
             ],
             [
              0.7777777777777778,
              "#fb9f3a"
             ],
             [
              0.8888888888888888,
              "#fdca26"
             ],
             [
              1,
              "#f0f921"
             ]
            ],
            "type": "histogram2dcontour"
           }
          ],
          "mesh3d": [
           {
            "colorbar": {
             "outlinewidth": 0,
             "ticks": ""
            },
            "type": "mesh3d"
           }
          ],
          "parcoords": [
           {
            "line": {
             "colorbar": {
              "outlinewidth": 0,
              "ticks": ""
             }
            },
            "type": "parcoords"
           }
          ],
          "pie": [
           {
            "automargin": true,
            "type": "pie"
           }
          ],
          "scatter": [
           {
            "fillpattern": {
             "fillmode": "overlay",
             "size": 10,
             "solidity": 0.2
            },
            "type": "scatter"
           }
          ],
          "scatter3d": [
           {
            "line": {
             "colorbar": {
              "outlinewidth": 0,
              "ticks": ""
             }
            },
            "marker": {
             "colorbar": {
              "outlinewidth": 0,
              "ticks": ""
             }
            },
            "type": "scatter3d"
           }
          ],
          "scattercarpet": [
           {
            "marker": {
             "colorbar": {
              "outlinewidth": 0,
              "ticks": ""
             }
            },
            "type": "scattercarpet"
           }
          ],
          "scattergeo": [
           {
            "marker": {
             "colorbar": {
              "outlinewidth": 0,
              "ticks": ""
             }
            },
            "type": "scattergeo"
           }
          ],
          "scattergl": [
           {
            "marker": {
             "colorbar": {
              "outlinewidth": 0,
              "ticks": ""
             }
            },
            "type": "scattergl"
           }
          ],
          "scattermapbox": [
           {
            "marker": {
             "colorbar": {
              "outlinewidth": 0,
              "ticks": ""
             }
            },
            "type": "scattermapbox"
           }
          ],
          "scatterpolar": [
           {
            "marker": {
             "colorbar": {
              "outlinewidth": 0,
              "ticks": ""
             }
            },
            "type": "scatterpolar"
           }
          ],
          "scatterpolargl": [
           {
            "marker": {
             "colorbar": {
              "outlinewidth": 0,
              "ticks": ""
             }
            },
            "type": "scatterpolargl"
           }
          ],
          "scatterternary": [
           {
            "marker": {
             "colorbar": {
              "outlinewidth": 0,
              "ticks": ""
             }
            },
            "type": "scatterternary"
           }
          ],
          "surface": [
           {
            "colorbar": {
             "outlinewidth": 0,
             "ticks": ""
            },
            "colorscale": [
             [
              0,
              "#0d0887"
             ],
             [
              0.1111111111111111,
              "#46039f"
             ],
             [
              0.2222222222222222,
              "#7201a8"
             ],
             [
              0.3333333333333333,
              "#9c179e"
             ],
             [
              0.4444444444444444,
              "#bd3786"
             ],
             [
              0.5555555555555556,
              "#d8576b"
             ],
             [
              0.6666666666666666,
              "#ed7953"
             ],
             [
              0.7777777777777778,
              "#fb9f3a"
             ],
             [
              0.8888888888888888,
              "#fdca26"
             ],
             [
              1,
              "#f0f921"
             ]
            ],
            "type": "surface"
           }
          ],
          "table": [
           {
            "cells": {
             "fill": {
              "color": "#EBF0F8"
             },
             "line": {
              "color": "white"
             }
            },
            "header": {
             "fill": {
              "color": "#C8D4E3"
             },
             "line": {
              "color": "white"
             }
            },
            "type": "table"
           }
          ]
         },
         "layout": {
          "annotationdefaults": {
           "arrowcolor": "#2a3f5f",
           "arrowhead": 0,
           "arrowwidth": 1
          },
          "autotypenumbers": "strict",
          "coloraxis": {
           "colorbar": {
            "outlinewidth": 0,
            "ticks": ""
           }
          },
          "colorscale": {
           "diverging": [
            [
             0,
             "#8e0152"
            ],
            [
             0.1,
             "#c51b7d"
            ],
            [
             0.2,
             "#de77ae"
            ],
            [
             0.3,
             "#f1b6da"
            ],
            [
             0.4,
             "#fde0ef"
            ],
            [
             0.5,
             "#f7f7f7"
            ],
            [
             0.6,
             "#e6f5d0"
            ],
            [
             0.7,
             "#b8e186"
            ],
            [
             0.8,
             "#7fbc41"
            ],
            [
             0.9,
             "#4d9221"
            ],
            [
             1,
             "#276419"
            ]
           ],
           "sequential": [
            [
             0,
             "#0d0887"
            ],
            [
             0.1111111111111111,
             "#46039f"
            ],
            [
             0.2222222222222222,
             "#7201a8"
            ],
            [
             0.3333333333333333,
             "#9c179e"
            ],
            [
             0.4444444444444444,
             "#bd3786"
            ],
            [
             0.5555555555555556,
             "#d8576b"
            ],
            [
             0.6666666666666666,
             "#ed7953"
            ],
            [
             0.7777777777777778,
             "#fb9f3a"
            ],
            [
             0.8888888888888888,
             "#fdca26"
            ],
            [
             1,
             "#f0f921"
            ]
           ],
           "sequentialminus": [
            [
             0,
             "#0d0887"
            ],
            [
             0.1111111111111111,
             "#46039f"
            ],
            [
             0.2222222222222222,
             "#7201a8"
            ],
            [
             0.3333333333333333,
             "#9c179e"
            ],
            [
             0.4444444444444444,
             "#bd3786"
            ],
            [
             0.5555555555555556,
             "#d8576b"
            ],
            [
             0.6666666666666666,
             "#ed7953"
            ],
            [
             0.7777777777777778,
             "#fb9f3a"
            ],
            [
             0.8888888888888888,
             "#fdca26"
            ],
            [
             1,
             "#f0f921"
            ]
           ]
          },
          "colorway": [
           "#636efa",
           "#EF553B",
           "#00cc96",
           "#ab63fa",
           "#FFA15A",
           "#19d3f3",
           "#FF6692",
           "#B6E880",
           "#FF97FF",
           "#FECB52"
          ],
          "font": {
           "color": "#2a3f5f"
          },
          "geo": {
           "bgcolor": "white",
           "lakecolor": "white",
           "landcolor": "#E5ECF6",
           "showlakes": true,
           "showland": true,
           "subunitcolor": "white"
          },
          "hoverlabel": {
           "align": "left"
          },
          "hovermode": "closest",
          "mapbox": {
           "style": "light"
          },
          "paper_bgcolor": "white",
          "plot_bgcolor": "#E5ECF6",
          "polar": {
           "angularaxis": {
            "gridcolor": "white",
            "linecolor": "white",
            "ticks": ""
           },
           "bgcolor": "#E5ECF6",
           "radialaxis": {
            "gridcolor": "white",
            "linecolor": "white",
            "ticks": ""
           }
          },
          "scene": {
           "xaxis": {
            "backgroundcolor": "#E5ECF6",
            "gridcolor": "white",
            "gridwidth": 2,
            "linecolor": "white",
            "showbackground": true,
            "ticks": "",
            "zerolinecolor": "white"
           },
           "yaxis": {
            "backgroundcolor": "#E5ECF6",
            "gridcolor": "white",
            "gridwidth": 2,
            "linecolor": "white",
            "showbackground": true,
            "ticks": "",
            "zerolinecolor": "white"
           },
           "zaxis": {
            "backgroundcolor": "#E5ECF6",
            "gridcolor": "white",
            "gridwidth": 2,
            "linecolor": "white",
            "showbackground": true,
            "ticks": "",
            "zerolinecolor": "white"
           }
          },
          "shapedefaults": {
           "line": {
            "color": "#2a3f5f"
           }
          },
          "ternary": {
           "aaxis": {
            "gridcolor": "white",
            "linecolor": "white",
            "ticks": ""
           },
           "baxis": {
            "gridcolor": "white",
            "linecolor": "white",
            "ticks": ""
           },
           "bgcolor": "#E5ECF6",
           "caxis": {
            "gridcolor": "white",
            "linecolor": "white",
            "ticks": ""
           }
          },
          "title": {
           "x": 0.05
          },
          "xaxis": {
           "automargin": true,
           "gridcolor": "white",
           "linecolor": "white",
           "ticks": "",
           "title": {
            "standoff": 15
           },
           "zerolinecolor": "white",
           "zerolinewidth": 2
          },
          "yaxis": {
           "automargin": true,
           "gridcolor": "white",
           "linecolor": "white",
           "ticks": "",
           "title": {
            "standoff": 15
           },
           "zerolinecolor": "white",
           "zerolinewidth": 2
          }
         }
        },
        "title": {
         "text": "Portfolio Returns Distribution with VaR and CVaR"
        },
        "xaxis": {
         "autorange": true,
         "range": [
          -0.019000000000000003,
          0.018999999999999996
         ],
         "title": {
          "text": "Returns"
         },
         "type": "linear"
        },
        "yaxis": {
         "autorange": true,
         "range": [
          -0.005555555555555556,
          0.10555555555555556
         ],
         "title": {
          "text": "Probability"
         },
         "type": "linear"
        }
       }
      },
      "image/png": "[encoded data removed]",
      "text/html": [
       "<div>                            <div id=\"dbc98775-82b4-4991-8581-a362d4b8aea1\" class=\"plotly-graph-div\" style=\"height:525px; width:100%;\"></div>            <script type=\"text/javascript\">                require([\"plotly\"], function(Plotly) {                    window.PLOTLYENV=window.PLOTLYENV || {};                                    if (document.getElementById(\"dbc98775-82b4-4991-8581-a362d4b8aea1\")) {                    Plotly.newPlot(                        \"dbc98775-82b4-4991-8581-a362d4b8aea1\",                        [{\"histnorm\":\"probability\",\"name\":\"Returns\",\"nbinsx\":50,\"x\":[0.005109079918604128,0.0036730053255481024,0.0008327636090400866,0.0031641466404272855,-0.004606488044081544,0.010195761595434703,0.003942677474027053,0.0032182755103961702,0.001375508058523838,-0.005450959794911979,-0.009067400991388046,-0.007824942019928734,0.008286893631187921,0.011249098643311646,0.0035198943481816736,-0.009462278517295435,0.004649596926620623,0.00021059531747388404,-0.005736357498469473,0.0036846593185045273,0.0018208869631125874,0.011644084867269804,0.00553062590969487,-0.00618993824316451,0.0007195858407080492,-0.003346998594880364,-0.002737978399304262,-0.002612776002632639,0.0002561710914965439,-0.005279509972072937,0.011523499645514355,0.0018944409902621,-0.01070486963879001,0.0025761121469756016,-0.017687350993654306,-0.0008314528509619461,-0.00026934019940334195,-0.0035184516605806233,-0.00011061585528748807,-0.00781079507523617,0.012580571551109474,0.00736740650534002,0.009661564699845566,-0.0001935955738182455,-0.0007401390942151881,-0.0017821523134545609,-0.012579635846673463,-0.018952799785317897,-0.013910461598041116,0.005722329796847043,-0.00972785736779791,0.006540844350634637,-0.006199685752482324,-0.00405447748067749,0.010652299164789365,0.001619310247678569,-0.0010333909723594696,-0.0029124068824464594,-0.0017714079951195293,0.0011493048216294802,0.006338217543313984,0.0036034854004360585,0.007427476563961541,0.0015491583562246794,-0.008503383467744452,-0.0016459269422682199,0.00462137195071496,0.006849618876084484,-0.004622666400540987,0.0015831266010713576,0.001777318519792998,0.0082094566964263,-0.0016551403681189633,-0.005878206455607611,-0.003221275496745002,-0.004058744920769836,-0.003322714860564886,-0.0033149259623477256,-0.005238015438151452,-0.0008479086366134686,0.003300114659422815,-0.0026765948173897826,-0.0027512442840755664,-0.003907368983175674,0.0032830574185894737,0.00035810242303270707,0.0020960554043428937,0.003624055616192104,-0.001190478832524211,0.006690672028439203,-0.00291805738668235,-0.002450976410583053,0.0043651574871312404,-0.0013934084826478902,0.006450747319967927,-0.002745924484525264,-0.007060141595474332,-0.0028460057637418315,0.010398281041041822,-0.010216179808484804,-0.007394064080748909,0.004016394352831441,0.017300034466751574,0.002615004709120699,0.005967043244574278,0.00037870465287786245,-0.00621289197668546,-0.0024937275690993166,0.005700295322196053,0.0007909389760171987,-0.0014824624095344397,-0.0017614920470540823,-7.271639857528054e-05,-0.002653409204509405,-0.005627530256819882,0.0004734241744188681,-0.006574681277434958,-0.005533187186674663,0.0017234837618230433,0.0023743826482869957,0.009183899101023827,0.0017672845249128944,0.0018611307574598296,0.00657403113274037,-0.0008217822664865482,-0.0038393380712071446,-0.013940857714336858,0.0014740414756485572,0.0009407867624922232,0.000147105360519698,0.008214768784057882,-0.003727399412198732,-0.0022794016384900845,0.001596783309501415,0.005587997338669658,0.018804455930121887,-0.0017374580721181143,-1.9217681487588518e-05,0.006629612125201428,0.0008594024856196012,-0.003316988348645863,0.003672036589947366,0.008290134792356487,0.0025524712966134328,-2.3561554131095678e-05,-0.01045271376334229,0.0018553924247933147,-0.00039614364980162473,-0.005598301185965477,-0.004967711981126459,0.0022704902026249147,0.004595857033359898,-0.009818431762315782,-0.0009997196497871623,-0.008918724299096981,-0.0049707358287686765,-0.00432440148200784,-0.005714873689374511,-0.0009896876770891952,0.002810802969112165,0.011666984734405273,0.00358530840119848,0.00040854066392456305,0.01750906955413565,-0.0057872703271408185,0.003836427231353435,0.011060157553074277,-0.002868940120089694,0.0015886191528502298,-0.0008308471086635779,-0.0032409605829148667,0.0027623982128032027,0.00042758275287131057,0.0026543451080873748,-0.0014556223664838092,0.00950494809171119,-0.002426775072828815,-0.0008541204818221752,-0.0022966256324140144,0.0027422299529212984,-0.011188971167774462,0.00763561718561775,-0.0018713610818253002,-0.003170285366345877,0.0008448286737446906,-0.005358215520849616,0.0019928408822122035,-0.0032993781731283566,-0.006416268385601546,-0.009183092828687693,-0.003358279282923395,0.005396639813557805,0.005460049096358967,0.00971462221699526,-0.002918999306872434,0.0036654325268251787,0.0058401331881155405,0.0018498236004517797,0.0009842223570751658,-0.0027747281684897184,-0.00031472397077815723,-0.011574794471426984,-0.009264996927178797,0.006605424230307949,-0.003478010961719497,-0.0031822936574887883,-0.0016665118301778523,0.003088616761523642,-0.0004469770730057514,0.0033416781352850595,0.008485752376516385,0.0002855424204025105,-0.002357734911203676,0.003603211311558544,-0.0022992342010281774,0.0005597390723526592,-0.0009335360614270826,0.003446651297322055,0.002275663932068017,0.009451482605932426,-0.010182371118495688,0.0031698749138044614,0.00046771359876031577,-0.0032884257205062018,0.005504398580588503,-0.002968259547405824,-0.006406931793442441,-0.0027406384547579155,-0.00014493493324425303,-0.0004997229969947288,0.0025796069428163054,0.004402425405326474,-0.0004997124773221035,-0.0012299956362048182,0.002340192975352151,-0.00031768587914961406,0.001407309688062527,-0.0008632298347186801,-0.00021689170432546772,0.0023784177114695316,0.0056964209639861485,0.006911084624116968,0.0006156598986970678,0.0006735792047838837,0.0017091852194305154,-0.0002167539122561577,-0.005162066697016323,0.0051880205563884655,0.00884218543512965,-0.0022349381908681105],\"type\":\"histogram\"},{\"line\":{\"color\":\"red\",\"dash\":\"dash\"},\"mode\":\"lines\",\"name\":\"VaR\",\"x\":[-0.009351712705869453,-0.009351712705869453],\"y\":[0,0.1],\"type\":\"scatter\"},{\"line\":{\"color\":\"blue\",\"dash\":\"dash\"},\"mode\":\"lines\",\"name\":\"CVaR\",\"x\":[0.011772194836726722,0.011772194836726722],\"y\":[0,0.1],\"type\":\"scatter\"}],                        {\"template\":{\"data\":{\"histogram2dcontour\":[{\"type\":\"histogram2dcontour\",\"colorbar\":{\"outlinewidth\":0,\"ticks\":\"\"},\"colorscale\":[[0.0,\"#0d0887\"],[0.1111111111111111,\"#46039f\"],[0.2222222222222222,\"#7201a8\"],[0.3333333333333333,\"#9c179e\"],[0.4444444444444444,\"#bd3786\"],[0.5555555555555556,\"#d8576b\"],[0.6666666666666666,\"#ed7953\"],[0.7777777777777778,\"#fb9f3a\"],[0.8888888888888888,\"#fdca26\"],[1.0,\"#f0f921\"]]}],\"choropleth\":[{\"type\":\"choropleth\",\"colorbar\":{\"outlinewidth\":0,\"ticks\":\"\"}}],\"histogram2d\":[{\"type\":\"histogram2d\",\"colorbar\":{\"outlinewidth\":0,\"ticks\":\"\"},\"colorscale\":[[0.0,\"#0d0887\"],[0.1111111111111111,\"#46039f\"],[0.2222222222222222,\"#7201a8\"],[0.3333333333333333,\"#9c179e\"],[0.4444444444444444,\"#bd3786\"],[0.5555555555555556,\"#d8576b\"],[0.6666666666666666,\"#ed7953\"],[0.7777777777777778,\"#fb9f3a\"],[0.8888888888888888,\"#fdca26\"],[1.0,\"#f0f921\"]]}],\"heatmap\":[{\"type\":\"heatmap\",\"colorbar\":{\"outlinewidth\":0,\"ticks\":\"\"},\"colorscale\":[[0.0,\"#0d0887\"],[0.1111111111111111,\"#46039f\"],[0.2222222222222222,\"#7201a8\"],[0.3333333333333333,\"#9c179e\"],[0.4444444444444444,\"#bd3786\"],[0.5555555555555556,\"#d8576b\"],[0.6666666666666666,\"#ed7953\"],[0.7777777777777778,\"#fb9f3a\"],[0.8888888888888888,\"#fdca26\"],[1.0,\"#f0f921\"]]}],\"heatmapgl\":[{\"type\":\"heatmapgl\",\"colorbar\":{\"outlinewidth\":0,\"ticks\":\"\"},\"colorscale\":[[0.0,\"#0d0887\"],[0.1111111111111111,\"#46039f\"],[0.2222222222222222,\"#7201a8\"],[0.3333333333333333,\"#9c179e\"],[0.4444444444444444,\"#bd3786\"],[0.5555555555555556,\"#d8576b\"],[0.6666666666666666,\"#ed7953\"],[0.7777777777777778,\"#fb9f3a\"],[0.8888888888888888,\"#fdca26\"],[1.0,\"#f0f921\"]]}],\"contourcarpet\":[{\"type\":\"contourcarpet\",\"colorbar\":{\"outlinewidth\":0,\"ticks\":\"\"}}],\"contour\":[{\"type\":\"contour\",\"colorbar\":{\"outlinewidth\":0,\"ticks\":\"\"},\"colorscale\":[[0.0,\"#0d0887\"],[0.1111111111111111,\"#46039f\"],[0.2222222222222222,\"#7201a8\"],[0.3333333333333333,\"#9c179e\"],[0.4444444444444444,\"#bd3786\"],[0.5555555555555556,\"#d8576b\"],[0.6666666666666666,\"#ed7953\"],[0.7777777777777778,\"#fb9f3a\"],[0.8888888888888888,\"#fdca26\"],[1.0,\"#f0f921\"]]}],\"surface\":[{\"type\":\"surface\",\"colorbar\":{\"outlinewidth\":0,\"ticks\":\"\"},\"colorscale\":[[0.0,\"#0d0887\"],[0.1111111111111111,\"#46039f\"],[0.2222222222222222,\"#7201a8\"],[0.3333333333333333,\"#9c179e\"],[0.4444444444444444,\"#bd3786\"],[0.5555555555555556,\"#d8576b\"],[0.6666666666666666,\"#ed7953\"],[0.7777777777777778,\"#fb9f3a\"],[0.8888888888888888,\"#fdca26\"],[1.0,\"#f0f921\"]]}],\"mesh3d\":[{\"type\":\"mesh3d\",\"colorbar\":{\"outlinewidth\":0,\"ticks\":\"\"}}],\"scatter\":[{\"fillpattern\":{\"fillmode\":\"overlay\",\"size\":10,\"solidity\":0.2},\"type\":\"scatter\"}],\"parcoords\":[{\"type\":\"parcoords\",\"line\":{\"colorbar\":{\"outlinewidth\":0,\"ticks\":\"\"}}}],\"scatterpolargl\":[{\"type\":\"scatterpolargl\",\"marker\":{\"colorbar\":{\"outlinewidth\":0,\"ticks\":\"\"}}}],\"bar\":[{\"error_x\":{\"color\":\"#2a3f5f\"},\"error_y\":{\"color\":\"#2a3f5f\"},\"marker\":{\"line\":{\"color\":\"#E5ECF6\",\"width\":0.5},\"pattern\":{\"fillmode\":\"overlay\",\"size\":10,\"solidity\":0.2}},\"type\":\"bar\"}],\"scattergeo\":[{\"type\":\"scattergeo\",\"marker\":{\"colorbar\":{\"outlinewidth\":0,\"ticks\":\"\"}}}],\"scatterpolar\":[{\"type\":\"scatterpolar\",\"marker\":{\"colorbar\":{\"outlinewidth\":0,\"ticks\":\"\"}}}],\"histogram\":[{\"marker\":{\"pattern\":{\"fillmode\":\"overlay\",\"size\":10,\"solidity\":0.2}},\"type\":\"histogram\"}],\"scattergl\":[{\"type\":\"scattergl\",\"marker\":{\"colorbar\":{\"outlinewidth\":0,\"ticks\":\"\"}}}],\"scatter3d\":[{\"type\":\"scatter3d\",\"line\":{\"colorbar\":{\"outlinewidth\":0,\"ticks\":\"\"}},\"marker\":{\"colorbar\":{\"outlinewidth\":0,\"ticks\":\"\"}}}],\"scattermapbox\":[{\"type\":\"scattermapbox\",\"marker\":{\"colorbar\":{\"outlinewidth\":0,\"ticks\":\"\"}}}],\"scatterternary\":[{\"type\":\"scatterternary\",\"marker\":{\"colorbar\":{\"outlinewidth\":0,\"ticks\":\"\"}}}],\"scattercarpet\":[{\"type\":\"scattercarpet\",\"marker\":{\"colorbar\":{\"outlinewidth\":0,\"ticks\":\"\"}}}],\"carpet\":[{\"aaxis\":{\"endlinecolor\":\"#2a3f5f\",\"gridcolor\":\"white\",\"linecolor\":\"white\",\"minorgridcolor\":\"white\",\"startlinecolor\":\"#2a3f5f\"},\"baxis\":{\"endlinecolor\":\"#2a3f5f\",\"gridcolor\":\"white\",\"linecolor\":\"white\",\"minorgridcolor\":\"white\",\"startlinecolor\":\"#2a3f5f\"},\"type\":\"carpet\"}],\"table\":[{\"cells\":{\"fill\":{\"color\":\"#EBF0F8\"},\"line\":{\"color\":\"white\"}},\"header\":{\"fill\":{\"color\":\"#C8D4E3\"},\"line\":{\"color\":\"white\"}},\"type\":\"table\"}],\"barpolar\":[{\"marker\":{\"line\":{\"color\":\"#E5ECF6\",\"width\":0.5},\"pattern\":{\"fillmode\":\"overlay\",\"size\":10,\"solidity\":0.2}},\"type\":\"barpolar\"}],\"pie\":[{\"automargin\":true,\"type\":\"pie\"}]},\"layout\":{\"autotypenumbers\":\"strict\",\"colorway\":[\"#636efa\",\"#EF553B\",\"#00cc96\",\"#ab63fa\",\"#FFA15A\",\"#19d3f3\",\"#FF6692\",\"#B6E880\",\"#FF97FF\",\"#FECB52\"],\"font\":{\"color\":\"#2a3f5f\"},\"hovermode\":\"closest\",\"hoverlabel\":{\"align\":\"left\"},\"paper_bgcolor\":\"white\",\"plot_bgcolor\":\"#E5ECF6\",\"polar\":{\"bgcolor\":\"#E5ECF6\",\"angularaxis\":{\"gridcolor\":\"white\",\"linecolor\":\"white\",\"ticks\":\"\"},\"radialaxis\":{\"gridcolor\":\"white\",\"linecolor\":\"white\",\"ticks\":\"\"}},\"ternary\":{\"bgcolor\":\"#E5ECF6\",\"aaxis\":{\"gridcolor\":\"white\",\"linecolor\":\"white\",\"ticks\":\"\"},\"baxis\":{\"gridcolor\":\"white\",\"linecolor\":\"white\",\"ticks\":\"\"},\"caxis\":{\"gridcolor\":\"white\",\"linecolor\":\"white\",\"ticks\":\"\"}},\"coloraxis\":{\"colorbar\":{\"outlinewidth\":0,\"ticks\":\"\"}},\"colorscale\":{\"sequential\":[[0.0,\"#0d0887\"],[0.1111111111111111,\"#46039f\"],[0.2222222222222222,\"#7201a8\"],[0.3333333333333333,\"#9c179e\"],[0.4444444444444444,\"#bd3786\"],[0.5555555555555556,\"#d8576b\"],[0.6666666666666666,\"#ed7953\"],[0.7777777777777778,\"#fb9f3a\"],[0.8888888888888888,\"#fdca26\"],[1.0,\"#f0f921\"]],\"sequentialminus\":[[0.0,\"#0d0887\"],[0.1111111111111111,\"#46039f\"],[0.2222222222222222,\"#7201a8\"],[0.3333333333333333,\"#9c179e\"],[0.4444444444444444,\"#bd3786\"],[0.5555555555555556,\"#d8576b\"],[0.6666666666666666,\"#ed7953\"],[0.7777777777777778,\"#fb9f3a\"],[0.8888888888888888,\"#fdca26\"],[1.0,\"#f0f921\"]],\"diverging\":[[0,\"#8e0152\"],[0.1,\"#c51b7d\"],[0.2,\"#de77ae\"],[0.3,\"#f1b6da\"],[0.4,\"#fde0ef\"],[0.5,\"#f7f7f7\"],[0.6,\"#e6f5d0\"],[0.7,\"#b8e186\"],[0.8,\"#7fbc41\"],[0.9,\"#4d9221\"],[1,\"#276419\"]]},\"xaxis\":{\"gridcolor\":\"white\",\"linecolor\":\"white\",\"ticks\":\"\",\"title\":{\"standoff\":15},\"zerolinecolor\":\"white\",\"automargin\":true,\"zerolinewidth\":2},\"yaxis\":{\"gridcolor\":\"white\",\"linecolor\":\"white\",\"ticks\":\"\",\"title\":{\"standoff\":15},\"zerolinecolor\":\"white\",\"automargin\":true,\"zerolinewidth\":2},\"scene\":{\"xaxis\":{\"backgroundcolor\":\"#E5ECF6\",\"gridcolor\":\"white\",\"linecolor\":\"white\",\"showbackground\":true,\"ticks\":\"\",\"zerolinecolor\":\"white\",\"gridwidth\":2},\"yaxis\":{\"backgroundcolor\":\"#E5ECF6\",\"gridcolor\":\"white\",\"linecolor\":\"white\",\"showbackground\":true,\"ticks\":\"\",\"zerolinecolor\":\"white\",\"gridwidth\":2},\"zaxis\":{\"backgroundcolor\":\"#E5ECF6\",\"gridcolor\":\"white\",\"linecolor\":\"white\",\"showbackground\":true,\"ticks\":\"\",\"zerolinecolor\":\"white\",\"gridwidth\":2}},\"shapedefaults\":{\"line\":{\"color\":\"#2a3f5f\"}},\"annotationdefaults\":{\"arrowcolor\":\"#2a3f5f\",\"arrowhead\":0,\"arrowwidth\":1},\"geo\":{\"bgcolor\":\"white\",\"landcolor\":\"#E5ECF6\",\"subunitcolor\":\"white\",\"showland\":true,\"showlakes\":true,\"lakecolor\":\"white\"},\"title\":{\"x\":0.05},\"mapbox\":{\"style\":\"light\"}}},\"title\":{\"text\":\"Portfolio Returns Distribution with VaR and CVaR\"},\"xaxis\":{\"title\":{\"text\":\"Returns\"}},\"yaxis\":{\"title\":{\"text\":\"Probability\"}}},                        {\"responsive\": true}                    ).then(function(){\n",
       "                            \n",
       "var gd = document.getElementById('dbc98775-82b4-4991-8581-a362d4b8aea1');\n",
       "var x = new MutationObserver(function (mutations, observer) {{\n",
       "        var display = window.getComputedStyle(gd).display;\n",
       "        if (!display || display === 'none') {{\n",
       "            console.log([gd, 'removed!']);\n",
       "            Plotly.purge(gd);\n",
       "            observer.disconnect();\n",
       "        }}\n",
       "}});\n",
       "\n",
       "// Listen for the removal of the full notebook cells\n",
       "var notebookContainer = gd.closest('#notebook-container');\n",
       "if (notebookContainer) {{\n",
       "    x.observe(notebookContainer, {childList: true});\n",
       "}}\n",
       "\n",
       "// Listen for the clearing of the current output cell\n",
       "var outputEl = gd.closest('.output');\n",
       "if (outputEl) {{\n",
       "    x.observe(outputEl, {childList: true});\n",
       "}}\n",
       "\n",
       "                        })                };                });            </script>        </div>"
      ]
     },
     "metadata": {},
     "output_type": "display_data"
    }
   ],
   "source": [
    "import yfinance as yf\n",
    "import pandas as pd\n",
    "import numpy as np\n",
    "import plotly.graph_objects as go\n",
    "from scipy.stats import norm\n",
    "\n",
    "# List of tickers\n",
    "tickers = ['FRCH.L', 'IIND.L', 'BBDS.L', 'BCOG.L', 'VWRL.L', 'IUSA.L', 'GLDW.L']\n",
    "\n",
    "# Fetch data\n",
    "data = yf.download(tickers, start=\"2023-01-01\", end=\"2024-01-01\")['Adj Close']\n",
    "\n",
    "# Calculate daily returns\n",
    "returns = data.pct_change().dropna()\n",
    "\n",
    "# Portfolio weights (example: equally weighted)\n",
    "weights = np.array([1/len(tickers)] * len(tickers))\n",
    "\n",
    "# Calculate portfolio returns\n",
    "portfolio_returns = returns.dot(weights)\n",
    "\n",
    "# Calculate mean and standard deviation of portfolio returns\n",
    "mean_return = portfolio_returns.mean()\n",
    "std_return = portfolio_returns.std()\n",
    "\n",
    "# Confidence level\n",
    "confidence_level = 0.95\n",
    "alpha = 1 - confidence_level\n",
    "\n",
    "# Calculate VaR using the parametric method\n",
    "VaR = norm.ppf(alpha, mean_return, std_return)\n",
    "\n",
    "# Calculate CVaR (also known as Expected Shortfall)\n",
    "CVaR = alpha**-1 * norm.pdf(norm.ppf(alpha)) * std_return - mean_return\n",
    "\n",
    "# Plotting the distribution of returns\n",
    "fig = go.Figure()\n",
    "\n",
    "# Histogram of returns\n",
    "fig.add_trace(go.Histogram(x=portfolio_returns, nbinsx=50, name='Returns', histnorm='probability'))\n",
    "\n",
    "# VaR line\n",
    "fig.add_trace(go.Scatter(x=[VaR, VaR], y=[0, 0.1], mode='lines', name='VaR', line=dict(color='red', dash='dash')))\n",
    "\n",
    "# CVaR line\n",
    "fig.add_trace(go.Scatter(x=[CVaR, CVaR], y=[0, 0.1], mode='lines', name='CVaR', line=dict(color='blue', dash='dash')))\n",
    "\n",
    "fig.update_layout(title='Portfolio Returns Distribution with VaR and CVaR',\n",
    "                  xaxis_title='Returns',\n",
    "                  yaxis_title='Probability')\n",
    "\n",
    "print(f\"Parametric VaR at {confidence_level*100}% confidence level: {VaR:.2%}\")\n",
    "print(f\"Conditional VaR (CVaR) at {confidence_level*100}% confidence level: {CVaR:.2%}\")\n",
    "\n",
    "fig.show()"
   ]
  },
  {
   "cell_type": "markdown",
   "id": "376c6794-f1ab-46d1-806d-be0861d5719a",
   "metadata": {},
   "source": [
    "### The same but using log normal returns "
   ]
  },
  {
   "cell_type": "code",
   "execution_count": 47,
   "id": "b0be8cdb-9857-45ec-aca3-6a46a3c077cb",
   "metadata": {},
   "outputs": [
    {
     "name": "stderr",
     "output_type": "stream",
     "text": [
      "[*********************100%%**********************]  7 of 7 completed"
     ]
    },
    {
     "name": "stdout",
     "output_type": "stream",
     "text": [
      "Parametric VaR at 95.0% confidence level: -0.94%\n",
      "Conditional VaR (CVaR) at 95.0% confidence level: 1.18%\n"
     ]
    },
    {
     "name": "stderr",
     "output_type": "stream",
     "text": [
      "\n"
     ]
    },
    {
     "data": {
      "application/vnd.plotly.v1+json": {
       "config": {
        "plotlyServerURL": "https://plot.ly"
       },
       "data": [
        {
         "histnorm": "probability",
         "name": "Log Returns",
         "nbinsx": 50,
         "type": "histogram",
         "x": [
          0.004970208747915015,
          0.0036408330635115125,
          0.0008150238454541169,
          0.0031519976906893964,
          -0.004625193411841274,
          0.010121525040320408,
          0.003914791797406746,
          0.003199649640126505,
          0.0013658150938106015,
          -0.00547954811953639,
          -0.009115290738700996,
          -0.007925265450698,
          0.00823949736924678,
          0.011134617082353249,
          0.0035032203889553953,
          -0.00951715723569185,
          0.0046116845822939435,
          0.00015059761496321548,
          -0.005798521412527994,
          0.003660553552732465,
          0.0017844168126700919,
          0.011413118993199642,
          0.005457424177968306,
          -0.006237374849016939,
          0.0006942098974845923,
          -0.0033704014510666457,
          -0.0027757148035461865,
          -0.0026522895242666114,
          0.00022815729548916676,
          -0.00530178632340429,
          0.011418266341514702,
          0.0018913432453435237,
          -0.010794008400872477,
          0.0025291043815666996,
          -0.017902290026085472,
          -0.0008412539057458483,
          -0.0002710447576096352,
          -0.0035668917982144325,
          -0.00012317046624435907,
          -0.007851530942157636,
          0.012404726179665915,
          0.007336932085516527,
          0.009599535425216492,
          -0.00021156461011216188,
          -0.0007520040271380895,
          -0.0017945643470311558,
          -0.012707161550832109,
          -0.019214072492260953,
          -0.014176474514602992,
          0.0056765587520761045,
          -0.009897700307671604,
          0.006471842950223141,
          -0.006268675194962876,
          -0.004070875226659631,
          0.010532327026198414,
          0.001608816215046319,
          -0.001126083812950937,
          -0.0029321618351867314,
          -0.0018434277452504207,
          0.0010918836286947806,
          0.006311616732710171,
          0.0035868407326878236,
          0.0073784365377050085,
          0.001525032283180851,
          -0.008569600507674486,
          -0.0016651490594467137,
          0.004596322002069862,
          0.006805009660913923,
          -0.004678394054085159,
          0.0015605467695455457,
          0.0017536201132911018,
          0.008155056373814395,
          -0.0016664956736528885,
          -0.005903705479302404,
          -0.0032462976836900364,
          -0.004108391658392442,
          -0.0033391917879879783,
          -0.0033550366961575505,
          -0.00528335459756615,
          -0.0008652276916590296,
          0.003281425905879438,
          -0.0027465829007907267,
          -0.0027855454781731174,
          -0.003988532967128946,
          0.0032091714870957906,
          0.0003442031270505725,
          0.002091535031633452,
          0.003606990568225457,
          -0.001204020529067437,
          0.006619997280657164,
          -0.0029263182811605937,
          -0.0024708938065694237,
          0.004302171298493732,
          -0.001409024512160653,
          0.006407682556392423,
          -0.0027775926055892946,
          -0.0071501147124632645,
          -0.0028864905638617796,
          0.010324758870143697,
          -0.01033621539315173,
          -0.007454355613222872,
          0.0039523300514977665,
          0.01708150445164477,
          0.002595117808842854,
          0.005916526774961147,
          0.00036198382190176135,
          -0.006242345755808627,
          -0.0025016273179546567,
          0.005668196774485665,
          0.0007701144964108617,
          -0.0014851135486538894,
          -0.0017998038386357754,
          -9.017729065557704e-05,
          -0.002661452631840375,
          -0.005686594107613713,
          0.000458172574654982,
          -0.006609130394710511,
          -0.005569646686270335,
          0.0017198089851526918,
          0.0023325172140593966,
          0.009116550044146047,
          0.0017482321415135905,
          0.0018546892855311622,
          0.006546041964958901,
          -0.0008261929328674849,
          -0.0038594468087729734,
          -0.014075669334285182,
          0.001441676318664686,
          0.0009342236680052381,
          0.00014366783937789612,
          0.00816211172996387,
          -0.003754892267749309,
          -0.002298672069065454,
          0.0015779383298737465,
          0.005538991758635439,
          0.018622199026254862,
          -0.00174702244255086,
          -2.3859517256596255e-05,
          0.006581113160109511,
          0.0008483277136860742,
          -0.0033291614954779046,
          0.003640771704502759,
          0.008175927667602648,
          0.0025451173563714115,
          -3.7488405383631575e-05,
          -0.010525436922222717,
          0.0018117734941953604,
          -0.0004052683907770317,
          -0.005630399422678172,
          -0.004994558399095364,
          0.002258508384689422,
          0.00456565669650454,
          -0.009937948688279066,
          -0.0010085390761159496,
          -0.008962386406345007,
          -0.005003663256627702,
          -0.004354063683276532,
          -0.005762417451285671,
          -0.001001032938479575,
          0.0028005311801244013,
          0.011592650155244891,
          0.003570501547998784,
          0.0003978007989222826,
          0.017283520688066916,
          -0.005822834918993162,
          0.0038189340281847596,
          0.010964834698909205,
          -0.002889913350978575,
          0.0015452948102062424,
          -0.0008396901807906908,
          -0.0033102063738249367,
          0.0027494631856420345,
          0.000413420281814043,
          0.002642830124755538,
          -0.0014589343091055479,
          0.009456724985888162,
          -0.002447705160948464,
          -0.0008553573039146522,
          -0.0023067226335635746,
          0.0027336869309106788,
          -0.011271840760622622,
          0.007557864605697275,
          -0.0018860509395335337,
          -0.00317746690109299,
          0.0008255753927677887,
          -0.005394239177319798,
          0.0019810339178798994,
          -0.003319430804098591,
          -0.006464035352949943,
          -0.009235937963578907,
          -0.0033714483048928683,
          0.005364083468162247,
          0.005406213630984109,
          0.009629878349748607,
          -0.002945406866141674,
          0.003637259615686644,
          0.005702021229502785,
          0.0018351331256077305,
          0.0009675441103655278,
          -0.0028355675567734258,
          -0.00032252110014206455,
          -0.011819936057011732,
          -0.009323538642198785,
          0.006512182115858564,
          -0.0035046694195090006,
          -0.003209859542339395,
          -0.0016790639047148152,
          0.003063551788639474,
          -0.0005047534405487517,
          0.003319994312550232,
          0.008416780661550745,
          0.00022888873361135738,
          -0.0023726488823562395,
          0.0035766376587795935,
          -0.002307113549776113,
          0.0005512800157250018,
          -0.0009569924898185167,
          0.003423434358513233,
          0.0022123630873768572,
          0.009345734652846887,
          -0.010372192923030842,
          0.003157437610573088,
          0.00043442347413141856,
          -0.0033285076944316646,
          0.005473710391106717,
          -0.002983849964805112,
          -0.00643857785703523,
          -0.0027541291656995835,
          -0.0001588319143753355,
          -0.0005195576199417273,
          0.0025681385811333517,
          0.0043622384033624555,
          -0.0005709351032363578,
          -0.0012596671171051183,
          0.0023118081884683775,
          -0.0003262944364636841,
          0.0013869650883500584,
          -0.0008981527441251407,
          -0.0002243143205922398,
          0.0023617638360045714,
          0.005608368955088073,
          0.006882270390085122,
          0.0005835089411039974,
          0.0006598556180075204,
          0.001670552667608868,
          -0.0002386848662401847,
          -0.005241352047424363,
          0.005169261941630758,
          0.008756969394330637,
          -0.0022418621001589
         ]
        },
        {
         "line": {
          "color": "red",
          "dash": "dash"
         },
         "mode": "lines",
         "name": "VaR",
         "type": "scatter",
         "x": [
          -0.009397841692506303,
          -0.009397841692506303
         ],
         "y": [
          0,
          0.1
         ]
        },
        {
         "line": {
          "color": "blue",
          "dash": "dash"
         },
         "mode": "lines",
         "name": "CVaR",
         "type": "scatter",
         "x": [
          0.011818632156852827,
          0.011818632156852827
         ],
         "y": [
          0,
          0.1
         ]
        }
       ],
       "layout": {
        "autosize": true,
        "template": {
         "data": {
          "bar": [
           {
            "error_x": {
             "color": "#2a3f5f"
            },
            "error_y": {
             "color": "#2a3f5f"
            },
            "marker": {
             "line": {
              "color": "#E5ECF6",
              "width": 0.5
             },
             "pattern": {
              "fillmode": "overlay",
              "size": 10,
              "solidity": 0.2
             }
            },
            "type": "bar"
           }
          ],
          "barpolar": [
           {
            "marker": {
             "line": {
              "color": "#E5ECF6",
              "width": 0.5
             },
             "pattern": {
              "fillmode": "overlay",
              "size": 10,
              "solidity": 0.2
             }
            },
            "type": "barpolar"
           }
          ],
          "carpet": [
           {
            "aaxis": {
             "endlinecolor": "#2a3f5f",
             "gridcolor": "white",
             "linecolor": "white",
             "minorgridcolor": "white",
             "startlinecolor": "#2a3f5f"
            },
            "baxis": {
             "endlinecolor": "#2a3f5f",
             "gridcolor": "white",
             "linecolor": "white",
             "minorgridcolor": "white",
             "startlinecolor": "#2a3f5f"
            },
            "type": "carpet"
           }
          ],
          "choropleth": [
           {
            "colorbar": {
             "outlinewidth": 0,
             "ticks": ""
            },
            "type": "choropleth"
           }
          ],
          "contour": [
           {
            "colorbar": {
             "outlinewidth": 0,
             "ticks": ""
            },
            "colorscale": [
             [
              0,
              "#0d0887"
             ],
             [
              0.1111111111111111,
              "#46039f"
             ],
             [
              0.2222222222222222,
              "#7201a8"
             ],
             [
              0.3333333333333333,
              "#9c179e"
             ],
             [
              0.4444444444444444,
              "#bd3786"
             ],
             [
              0.5555555555555556,
              "#d8576b"
             ],
             [
              0.6666666666666666,
              "#ed7953"
             ],
             [
              0.7777777777777778,
              "#fb9f3a"
             ],
             [
              0.8888888888888888,
              "#fdca26"
             ],
             [
              1,
              "#f0f921"
             ]
            ],
            "type": "contour"
           }
          ],
          "contourcarpet": [
           {
            "colorbar": {
             "outlinewidth": 0,
             "ticks": ""
            },
            "type": "contourcarpet"
           }
          ],
          "heatmap": [
           {
            "colorbar": {
             "outlinewidth": 0,
             "ticks": ""
            },
            "colorscale": [
             [
              0,
              "#0d0887"
             ],
             [
              0.1111111111111111,
              "#46039f"
             ],
             [
              0.2222222222222222,
              "#7201a8"
             ],
             [
              0.3333333333333333,
              "#9c179e"
             ],
             [
              0.4444444444444444,
              "#bd3786"
             ],
             [
              0.5555555555555556,
              "#d8576b"
             ],
             [
              0.6666666666666666,
              "#ed7953"
             ],
             [
              0.7777777777777778,
              "#fb9f3a"
             ],
             [
              0.8888888888888888,
              "#fdca26"
             ],
             [
              1,
              "#f0f921"
             ]
            ],
            "type": "heatmap"
           }
          ],
          "heatmapgl": [
           {
            "colorbar": {
             "outlinewidth": 0,
             "ticks": ""
            },
            "colorscale": [
             [
              0,
              "#0d0887"
             ],
             [
              0.1111111111111111,
              "#46039f"
             ],
             [
              0.2222222222222222,
              "#7201a8"
             ],
             [
              0.3333333333333333,
              "#9c179e"
             ],
             [
              0.4444444444444444,
              "#bd3786"
             ],
             [
              0.5555555555555556,
              "#d8576b"
             ],
             [
              0.6666666666666666,
              "#ed7953"
             ],
             [
              0.7777777777777778,
              "#fb9f3a"
             ],
             [
              0.8888888888888888,
              "#fdca26"
             ],
             [
              1,
              "#f0f921"
             ]
            ],
            "type": "heatmapgl"
           }
          ],
          "histogram": [
           {
            "marker": {
             "pattern": {
              "fillmode": "overlay",
              "size": 10,
              "solidity": 0.2
             }
            },
            "type": "histogram"
           }
          ],
          "histogram2d": [
           {
            "colorbar": {
             "outlinewidth": 0,
             "ticks": ""
            },
            "colorscale": [
             [
              0,
              "#0d0887"
             ],
             [
              0.1111111111111111,
              "#46039f"
             ],
             [
              0.2222222222222222,
              "#7201a8"
             ],
             [
              0.3333333333333333,
              "#9c179e"
             ],
             [
              0.4444444444444444,
              "#bd3786"
             ],
             [
              0.5555555555555556,
              "#d8576b"
             ],
             [
              0.6666666666666666,
              "#ed7953"
             ],
             [
              0.7777777777777778,
              "#fb9f3a"
             ],
             [
              0.8888888888888888,
              "#fdca26"
             ],
             [
              1,
              "#f0f921"
             ]
            ],
            "type": "histogram2d"
           }
          ],
          "histogram2dcontour": [
           {
            "colorbar": {
             "outlinewidth": 0,
             "ticks": ""
            },
            "colorscale": [
             [
              0,
              "#0d0887"
             ],
             [
              0.1111111111111111,
              "#46039f"
             ],
             [
              0.2222222222222222,
              "#7201a8"
             ],
             [
              0.3333333333333333,
              "#9c179e"
             ],
             [
              0.4444444444444444,
              "#bd3786"
             ],
             [
              0.5555555555555556,
              "#d8576b"
             ],
             [
              0.6666666666666666,
              "#ed7953"
             ],
             [
              0.7777777777777778,
              "#fb9f3a"
             ],
             [
              0.8888888888888888,
              "#fdca26"
             ],
             [
              1,
              "#f0f921"
             ]
            ],
            "type": "histogram2dcontour"
           }
          ],
          "mesh3d": [
           {
            "colorbar": {
             "outlinewidth": 0,
             "ticks": ""
            },
            "type": "mesh3d"
           }
          ],
          "parcoords": [
           {
            "line": {
             "colorbar": {
              "outlinewidth": 0,
              "ticks": ""
             }
            },
            "type": "parcoords"
           }
          ],
          "pie": [
           {
            "automargin": true,
            "type": "pie"
           }
          ],
          "scatter": [
           {
            "fillpattern": {
             "fillmode": "overlay",
             "size": 10,
             "solidity": 0.2
            },
            "type": "scatter"
           }
          ],
          "scatter3d": [
           {
            "line": {
             "colorbar": {
              "outlinewidth": 0,
              "ticks": ""
             }
            },
            "marker": {
             "colorbar": {
              "outlinewidth": 0,
              "ticks": ""
             }
            },
            "type": "scatter3d"
           }
          ],
          "scattercarpet": [
           {
            "marker": {
             "colorbar": {
              "outlinewidth": 0,
              "ticks": ""
             }
            },
            "type": "scattercarpet"
           }
          ],
          "scattergeo": [
           {
            "marker": {
             "colorbar": {
              "outlinewidth": 0,
              "ticks": ""
             }
            },
            "type": "scattergeo"
           }
          ],
          "scattergl": [
           {
            "marker": {
             "colorbar": {
              "outlinewidth": 0,
              "ticks": ""
             }
            },
            "type": "scattergl"
           }
          ],
          "scattermapbox": [
           {
            "marker": {
             "colorbar": {
              "outlinewidth": 0,
              "ticks": ""
             }
            },
            "type": "scattermapbox"
           }
          ],
          "scatterpolar": [
           {
            "marker": {
             "colorbar": {
              "outlinewidth": 0,
              "ticks": ""
             }
            },
            "type": "scatterpolar"
           }
          ],
          "scatterpolargl": [
           {
            "marker": {
             "colorbar": {
              "outlinewidth": 0,
              "ticks": ""
             }
            },
            "type": "scatterpolargl"
           }
          ],
          "scatterternary": [
           {
            "marker": {
             "colorbar": {
              "outlinewidth": 0,
              "ticks": ""
             }
            },
            "type": "scatterternary"
           }
          ],
          "surface": [
           {
            "colorbar": {
             "outlinewidth": 0,
             "ticks": ""
            },
            "colorscale": [
             [
              0,
              "#0d0887"
             ],
             [
              0.1111111111111111,
              "#46039f"
             ],
             [
              0.2222222222222222,
              "#7201a8"
             ],
             [
              0.3333333333333333,
              "#9c179e"
             ],
             [
              0.4444444444444444,
              "#bd3786"
             ],
             [
              0.5555555555555556,
              "#d8576b"
             ],
             [
              0.6666666666666666,
              "#ed7953"
             ],
             [
              0.7777777777777778,
              "#fb9f3a"
             ],
             [
              0.8888888888888888,
              "#fdca26"
             ],
             [
              1,
              "#f0f921"
             ]
            ],
            "type": "surface"
           }
          ],
          "table": [
           {
            "cells": {
             "fill": {
              "color": "#EBF0F8"
             },
             "line": {
              "color": "white"
             }
            },
            "header": {
             "fill": {
              "color": "#C8D4E3"
             },
             "line": {
              "color": "white"
             }
            },
            "type": "table"
           }
          ]
         },
         "layout": {
          "annotationdefaults": {
           "arrowcolor": "#2a3f5f",
           "arrowhead": 0,
           "arrowwidth": 1
          },
          "autotypenumbers": "strict",
          "coloraxis": {
           "colorbar": {
            "outlinewidth": 0,
            "ticks": ""
           }
          },
          "colorscale": {
           "diverging": [
            [
             0,
             "#8e0152"
            ],
            [
             0.1,
             "#c51b7d"
            ],
            [
             0.2,
             "#de77ae"
            ],
            [
             0.3,
             "#f1b6da"
            ],
            [
             0.4,
             "#fde0ef"
            ],
            [
             0.5,
             "#f7f7f7"
            ],
            [
             0.6,
             "#e6f5d0"
            ],
            [
             0.7,
             "#b8e186"
            ],
            [
             0.8,
             "#7fbc41"
            ],
            [
             0.9,
             "#4d9221"
            ],
            [
             1,
             "#276419"
            ]
           ],
           "sequential": [
            [
             0,
             "#0d0887"
            ],
            [
             0.1111111111111111,
             "#46039f"
            ],
            [
             0.2222222222222222,
             "#7201a8"
            ],
            [
             0.3333333333333333,
             "#9c179e"
            ],
            [
             0.4444444444444444,
             "#bd3786"
            ],
            [
             0.5555555555555556,
             "#d8576b"
            ],
            [
             0.6666666666666666,
             "#ed7953"
            ],
            [
             0.7777777777777778,
             "#fb9f3a"
            ],
            [
             0.8888888888888888,
             "#fdca26"
            ],
            [
             1,
             "#f0f921"
            ]
           ],
           "sequentialminus": [
            [
             0,
             "#0d0887"
            ],
            [
             0.1111111111111111,
             "#46039f"
            ],
            [
             0.2222222222222222,
             "#7201a8"
            ],
            [
             0.3333333333333333,
             "#9c179e"
            ],
            [
             0.4444444444444444,
             "#bd3786"
            ],
            [
             0.5555555555555556,
             "#d8576b"
            ],
            [
             0.6666666666666666,
             "#ed7953"
            ],
            [
             0.7777777777777778,
             "#fb9f3a"
            ],
            [
             0.8888888888888888,
             "#fdca26"
            ],
            [
             1,
             "#f0f921"
            ]
           ]
          },
          "colorway": [
           "#636efa",
           "#EF553B",
           "#00cc96",
           "#ab63fa",
           "#FFA15A",
           "#19d3f3",
           "#FF6692",
           "#B6E880",
           "#FF97FF",
           "#FECB52"
          ],
          "font": {
           "color": "#2a3f5f"
          },
          "geo": {
           "bgcolor": "white",
           "lakecolor": "white",
           "landcolor": "#E5ECF6",
           "showlakes": true,
           "showland": true,
           "subunitcolor": "white"
          },
          "hoverlabel": {
           "align": "left"
          },
          "hovermode": "closest",
          "mapbox": {
           "style": "light"
          },
          "paper_bgcolor": "white",
          "plot_bgcolor": "#E5ECF6",
          "polar": {
           "angularaxis": {
            "gridcolor": "white",
            "linecolor": "white",
            "ticks": ""
           },
           "bgcolor": "#E5ECF6",
           "radialaxis": {
            "gridcolor": "white",
            "linecolor": "white",
            "ticks": ""
           }
          },
          "scene": {
           "xaxis": {
            "backgroundcolor": "#E5ECF6",
            "gridcolor": "white",
            "gridwidth": 2,
            "linecolor": "white",
            "showbackground": true,
            "ticks": "",
            "zerolinecolor": "white"
           },
           "yaxis": {
            "backgroundcolor": "#E5ECF6",
            "gridcolor": "white",
            "gridwidth": 2,
            "linecolor": "white",
            "showbackground": true,
            "ticks": "",
            "zerolinecolor": "white"
           },
           "zaxis": {
            "backgroundcolor": "#E5ECF6",
            "gridcolor": "white",
            "gridwidth": 2,
            "linecolor": "white",
            "showbackground": true,
            "ticks": "",
            "zerolinecolor": "white"
           }
          },
          "shapedefaults": {
           "line": {
            "color": "#2a3f5f"
           }
          },
          "ternary": {
           "aaxis": {
            "gridcolor": "white",
            "linecolor": "white",
            "ticks": ""
           },
           "baxis": {
            "gridcolor": "white",
            "linecolor": "white",
            "ticks": ""
           },
           "bgcolor": "#E5ECF6",
           "caxis": {
            "gridcolor": "white",
            "linecolor": "white",
            "ticks": ""
           }
          },
          "title": {
           "x": 0.05
          },
          "xaxis": {
           "automargin": true,
           "gridcolor": "white",
           "linecolor": "white",
           "ticks": "",
           "title": {
            "standoff": 15
           },
           "zerolinecolor": "white",
           "zerolinewidth": 2
          },
          "yaxis": {
           "automargin": true,
           "gridcolor": "white",
           "linecolor": "white",
           "ticks": "",
           "title": {
            "standoff": 15
           },
           "zerolinecolor": "white",
           "zerolinewidth": 2
          }
         }
        },
        "title": {
         "text": "Portfolio Log Returns Distribution with VaR and CVaR"
        },
        "xaxis": {
         "autorange": true,
         "range": [
          -0.019999999999999997,
          0.018999999999999996
         ],
         "title": {
          "text": "Log Returns"
         },
         "type": "linear"
        },
        "yaxis": {
         "autorange": true,
         "range": [
          -0.005555555555555556,
          0.10555555555555556
         ],
         "title": {
          "text": "Probability"
         },
         "type": "linear"
        }
       }
      },
      "image/png": "[encoded data removed]",
      "text/html": [
       "<div>                            <div id=\"6ddf81d8-1ea5-489f-96ef-e163794a522c\" class=\"plotly-graph-div\" style=\"height:525px; width:100%;\"></div>            <script type=\"text/javascript\">                require([\"plotly\"], function(Plotly) {                    window.PLOTLYENV=window.PLOTLYENV || {};                                    if (document.getElementById(\"6ddf81d8-1ea5-489f-96ef-e163794a522c\")) {                    Plotly.newPlot(                        \"6ddf81d8-1ea5-489f-96ef-e163794a522c\",                        [{\"histnorm\":\"probability\",\"name\":\"Log Returns\",\"nbinsx\":50,\"x\":[0.004970208747915015,0.0036408330635115125,0.0008150238454541169,0.0031519976906893964,-0.004625193411841274,0.010121525040320408,0.003914791797406746,0.003199649640126505,0.0013658150938106015,-0.00547954811953639,-0.009115290738700996,-0.007925265450698,0.00823949736924678,0.011134617082353249,0.0035032203889553953,-0.00951715723569185,0.0046116845822939435,0.00015059761496321548,-0.005798521412527994,0.003660553552732465,0.0017844168126700919,0.011413118993199642,0.005457424177968306,-0.006237374849016939,0.0006942098974845923,-0.0033704014510666457,-0.0027757148035461865,-0.0026522895242666114,0.00022815729548916676,-0.00530178632340429,0.011418266341514702,0.0018913432453435237,-0.010794008400872477,0.0025291043815666996,-0.017902290026085472,-0.0008412539057458483,-0.0002710447576096352,-0.0035668917982144325,-0.00012317046624435907,-0.007851530942157636,0.012404726179665915,0.007336932085516527,0.009599535425216492,-0.00021156461011216188,-0.0007520040271380895,-0.0017945643470311558,-0.012707161550832109,-0.019214072492260953,-0.014176474514602992,0.0056765587520761045,-0.009897700307671604,0.006471842950223141,-0.006268675194962876,-0.004070875226659631,0.010532327026198414,0.001608816215046319,-0.001126083812950937,-0.0029321618351867314,-0.0018434277452504207,0.0010918836286947806,0.006311616732710171,0.0035868407326878236,0.0073784365377050085,0.001525032283180851,-0.008569600507674486,-0.0016651490594467137,0.004596322002069862,0.006805009660913923,-0.004678394054085159,0.0015605467695455457,0.0017536201132911018,0.008155056373814395,-0.0016664956736528885,-0.005903705479302404,-0.0032462976836900364,-0.004108391658392442,-0.0033391917879879783,-0.0033550366961575505,-0.00528335459756615,-0.0008652276916590296,0.003281425905879438,-0.0027465829007907267,-0.0027855454781731174,-0.003988532967128946,0.0032091714870957906,0.0003442031270505725,0.002091535031633452,0.003606990568225457,-0.001204020529067437,0.006619997280657164,-0.0029263182811605937,-0.0024708938065694237,0.004302171298493732,-0.001409024512160653,0.006407682556392423,-0.0027775926055892946,-0.0071501147124632645,-0.0028864905638617796,0.010324758870143697,-0.01033621539315173,-0.007454355613222872,0.0039523300514977665,0.01708150445164477,0.002595117808842854,0.005916526774961147,0.00036198382190176135,-0.006242345755808627,-0.0025016273179546567,0.005668196774485665,0.0007701144964108617,-0.0014851135486538894,-0.0017998038386357754,-9.017729065557704e-05,-0.002661452631840375,-0.005686594107613713,0.000458172574654982,-0.006609130394710511,-0.005569646686270335,0.0017198089851526918,0.0023325172140593966,0.009116550044146047,0.0017482321415135905,0.0018546892855311622,0.006546041964958901,-0.0008261929328674849,-0.0038594468087729734,-0.014075669334285182,0.001441676318664686,0.0009342236680052381,0.00014366783937789612,0.00816211172996387,-0.003754892267749309,-0.002298672069065454,0.0015779383298737465,0.005538991758635439,0.018622199026254862,-0.00174702244255086,-2.3859517256596255e-05,0.006581113160109511,0.0008483277136860742,-0.0033291614954779046,0.003640771704502759,0.008175927667602648,0.0025451173563714115,-3.7488405383631575e-05,-0.010525436922222717,0.0018117734941953604,-0.0004052683907770317,-0.005630399422678172,-0.004994558399095364,0.002258508384689422,0.00456565669650454,-0.009937948688279066,-0.0010085390761159496,-0.008962386406345007,-0.005003663256627702,-0.004354063683276532,-0.005762417451285671,-0.001001032938479575,0.0028005311801244013,0.011592650155244891,0.003570501547998784,0.0003978007989222826,0.017283520688066916,-0.005822834918993162,0.0038189340281847596,0.010964834698909205,-0.002889913350978575,0.0015452948102062424,-0.0008396901807906908,-0.0033102063738249367,0.0027494631856420345,0.000413420281814043,0.002642830124755538,-0.0014589343091055479,0.009456724985888162,-0.002447705160948464,-0.0008553573039146522,-0.0023067226335635746,0.0027336869309106788,-0.011271840760622622,0.007557864605697275,-0.0018860509395335337,-0.00317746690109299,0.0008255753927677887,-0.005394239177319798,0.0019810339178798994,-0.003319430804098591,-0.006464035352949943,-0.009235937963578907,-0.0033714483048928683,0.005364083468162247,0.005406213630984109,0.009629878349748607,-0.002945406866141674,0.003637259615686644,0.005702021229502785,0.0018351331256077305,0.0009675441103655278,-0.0028355675567734258,-0.00032252110014206455,-0.011819936057011732,-0.009323538642198785,0.006512182115858564,-0.0035046694195090006,-0.003209859542339395,-0.0016790639047148152,0.003063551788639474,-0.0005047534405487517,0.003319994312550232,0.008416780661550745,0.00022888873361135738,-0.0023726488823562395,0.0035766376587795935,-0.002307113549776113,0.0005512800157250018,-0.0009569924898185167,0.003423434358513233,0.0022123630873768572,0.009345734652846887,-0.010372192923030842,0.003157437610573088,0.00043442347413141856,-0.0033285076944316646,0.005473710391106717,-0.002983849964805112,-0.00643857785703523,-0.0027541291656995835,-0.0001588319143753355,-0.0005195576199417273,0.0025681385811333517,0.0043622384033624555,-0.0005709351032363578,-0.0012596671171051183,0.0023118081884683775,-0.0003262944364636841,0.0013869650883500584,-0.0008981527441251407,-0.0002243143205922398,0.0023617638360045714,0.005608368955088073,0.006882270390085122,0.0005835089411039974,0.0006598556180075204,0.001670552667608868,-0.0002386848662401847,-0.005241352047424363,0.005169261941630758,0.008756969394330637,-0.0022418621001589],\"type\":\"histogram\"},{\"line\":{\"color\":\"red\",\"dash\":\"dash\"},\"mode\":\"lines\",\"name\":\"VaR\",\"x\":[-0.009397841692506303,-0.009397841692506303],\"y\":[0,0.1],\"type\":\"scatter\"},{\"line\":{\"color\":\"blue\",\"dash\":\"dash\"},\"mode\":\"lines\",\"name\":\"CVaR\",\"x\":[0.011818632156852827,0.011818632156852827],\"y\":[0,0.1],\"type\":\"scatter\"}],                        {\"template\":{\"data\":{\"histogram2dcontour\":[{\"type\":\"histogram2dcontour\",\"colorbar\":{\"outlinewidth\":0,\"ticks\":\"\"},\"colorscale\":[[0.0,\"#0d0887\"],[0.1111111111111111,\"#46039f\"],[0.2222222222222222,\"#7201a8\"],[0.3333333333333333,\"#9c179e\"],[0.4444444444444444,\"#bd3786\"],[0.5555555555555556,\"#d8576b\"],[0.6666666666666666,\"#ed7953\"],[0.7777777777777778,\"#fb9f3a\"],[0.8888888888888888,\"#fdca26\"],[1.0,\"#f0f921\"]]}],\"choropleth\":[{\"type\":\"choropleth\",\"colorbar\":{\"outlinewidth\":0,\"ticks\":\"\"}}],\"histogram2d\":[{\"type\":\"histogram2d\",\"colorbar\":{\"outlinewidth\":0,\"ticks\":\"\"},\"colorscale\":[[0.0,\"#0d0887\"],[0.1111111111111111,\"#46039f\"],[0.2222222222222222,\"#7201a8\"],[0.3333333333333333,\"#9c179e\"],[0.4444444444444444,\"#bd3786\"],[0.5555555555555556,\"#d8576b\"],[0.6666666666666666,\"#ed7953\"],[0.7777777777777778,\"#fb9f3a\"],[0.8888888888888888,\"#fdca26\"],[1.0,\"#f0f921\"]]}],\"heatmap\":[{\"type\":\"heatmap\",\"colorbar\":{\"outlinewidth\":0,\"ticks\":\"\"},\"colorscale\":[[0.0,\"#0d0887\"],[0.1111111111111111,\"#46039f\"],[0.2222222222222222,\"#7201a8\"],[0.3333333333333333,\"#9c179e\"],[0.4444444444444444,\"#bd3786\"],[0.5555555555555556,\"#d8576b\"],[0.6666666666666666,\"#ed7953\"],[0.7777777777777778,\"#fb9f3a\"],[0.8888888888888888,\"#fdca26\"],[1.0,\"#f0f921\"]]}],\"heatmapgl\":[{\"type\":\"heatmapgl\",\"colorbar\":{\"outlinewidth\":0,\"ticks\":\"\"},\"colorscale\":[[0.0,\"#0d0887\"],[0.1111111111111111,\"#46039f\"],[0.2222222222222222,\"#7201a8\"],[0.3333333333333333,\"#9c179e\"],[0.4444444444444444,\"#bd3786\"],[0.5555555555555556,\"#d8576b\"],[0.6666666666666666,\"#ed7953\"],[0.7777777777777778,\"#fb9f3a\"],[0.8888888888888888,\"#fdca26\"],[1.0,\"#f0f921\"]]}],\"contourcarpet\":[{\"type\":\"contourcarpet\",\"colorbar\":{\"outlinewidth\":0,\"ticks\":\"\"}}],\"contour\":[{\"type\":\"contour\",\"colorbar\":{\"outlinewidth\":0,\"ticks\":\"\"},\"colorscale\":[[0.0,\"#0d0887\"],[0.1111111111111111,\"#46039f\"],[0.2222222222222222,\"#7201a8\"],[0.3333333333333333,\"#9c179e\"],[0.4444444444444444,\"#bd3786\"],[0.5555555555555556,\"#d8576b\"],[0.6666666666666666,\"#ed7953\"],[0.7777777777777778,\"#fb9f3a\"],[0.8888888888888888,\"#fdca26\"],[1.0,\"#f0f921\"]]}],\"surface\":[{\"type\":\"surface\",\"colorbar\":{\"outlinewidth\":0,\"ticks\":\"\"},\"colorscale\":[[0.0,\"#0d0887\"],[0.1111111111111111,\"#46039f\"],[0.2222222222222222,\"#7201a8\"],[0.3333333333333333,\"#9c179e\"],[0.4444444444444444,\"#bd3786\"],[0.5555555555555556,\"#d8576b\"],[0.6666666666666666,\"#ed7953\"],[0.7777777777777778,\"#fb9f3a\"],[0.8888888888888888,\"#fdca26\"],[1.0,\"#f0f921\"]]}],\"mesh3d\":[{\"type\":\"mesh3d\",\"colorbar\":{\"outlinewidth\":0,\"ticks\":\"\"}}],\"scatter\":[{\"fillpattern\":{\"fillmode\":\"overlay\",\"size\":10,\"solidity\":0.2},\"type\":\"scatter\"}],\"parcoords\":[{\"type\":\"parcoords\",\"line\":{\"colorbar\":{\"outlinewidth\":0,\"ticks\":\"\"}}}],\"scatterpolargl\":[{\"type\":\"scatterpolargl\",\"marker\":{\"colorbar\":{\"outlinewidth\":0,\"ticks\":\"\"}}}],\"bar\":[{\"error_x\":{\"color\":\"#2a3f5f\"},\"error_y\":{\"color\":\"#2a3f5f\"},\"marker\":{\"line\":{\"color\":\"#E5ECF6\",\"width\":0.5},\"pattern\":{\"fillmode\":\"overlay\",\"size\":10,\"solidity\":0.2}},\"type\":\"bar\"}],\"scattergeo\":[{\"type\":\"scattergeo\",\"marker\":{\"colorbar\":{\"outlinewidth\":0,\"ticks\":\"\"}}}],\"scatterpolar\":[{\"type\":\"scatterpolar\",\"marker\":{\"colorbar\":{\"outlinewidth\":0,\"ticks\":\"\"}}}],\"histogram\":[{\"marker\":{\"pattern\":{\"fillmode\":\"overlay\",\"size\":10,\"solidity\":0.2}},\"type\":\"histogram\"}],\"scattergl\":[{\"type\":\"scattergl\",\"marker\":{\"colorbar\":{\"outlinewidth\":0,\"ticks\":\"\"}}}],\"scatter3d\":[{\"type\":\"scatter3d\",\"line\":{\"colorbar\":{\"outlinewidth\":0,\"ticks\":\"\"}},\"marker\":{\"colorbar\":{\"outlinewidth\":0,\"ticks\":\"\"}}}],\"scattermapbox\":[{\"type\":\"scattermapbox\",\"marker\":{\"colorbar\":{\"outlinewidth\":0,\"ticks\":\"\"}}}],\"scatterternary\":[{\"type\":\"scatterternary\",\"marker\":{\"colorbar\":{\"outlinewidth\":0,\"ticks\":\"\"}}}],\"scattercarpet\":[{\"type\":\"scattercarpet\",\"marker\":{\"colorbar\":{\"outlinewidth\":0,\"ticks\":\"\"}}}],\"carpet\":[{\"aaxis\":{\"endlinecolor\":\"#2a3f5f\",\"gridcolor\":\"white\",\"linecolor\":\"white\",\"minorgridcolor\":\"white\",\"startlinecolor\":\"#2a3f5f\"},\"baxis\":{\"endlinecolor\":\"#2a3f5f\",\"gridcolor\":\"white\",\"linecolor\":\"white\",\"minorgridcolor\":\"white\",\"startlinecolor\":\"#2a3f5f\"},\"type\":\"carpet\"}],\"table\":[{\"cells\":{\"fill\":{\"color\":\"#EBF0F8\"},\"line\":{\"color\":\"white\"}},\"header\":{\"fill\":{\"color\":\"#C8D4E3\"},\"line\":{\"color\":\"white\"}},\"type\":\"table\"}],\"barpolar\":[{\"marker\":{\"line\":{\"color\":\"#E5ECF6\",\"width\":0.5},\"pattern\":{\"fillmode\":\"overlay\",\"size\":10,\"solidity\":0.2}},\"type\":\"barpolar\"}],\"pie\":[{\"automargin\":true,\"type\":\"pie\"}]},\"layout\":{\"autotypenumbers\":\"strict\",\"colorway\":[\"#636efa\",\"#EF553B\",\"#00cc96\",\"#ab63fa\",\"#FFA15A\",\"#19d3f3\",\"#FF6692\",\"#B6E880\",\"#FF97FF\",\"#FECB52\"],\"font\":{\"color\":\"#2a3f5f\"},\"hovermode\":\"closest\",\"hoverlabel\":{\"align\":\"left\"},\"paper_bgcolor\":\"white\",\"plot_bgcolor\":\"#E5ECF6\",\"polar\":{\"bgcolor\":\"#E5ECF6\",\"angularaxis\":{\"gridcolor\":\"white\",\"linecolor\":\"white\",\"ticks\":\"\"},\"radialaxis\":{\"gridcolor\":\"white\",\"linecolor\":\"white\",\"ticks\":\"\"}},\"ternary\":{\"bgcolor\":\"#E5ECF6\",\"aaxis\":{\"gridcolor\":\"white\",\"linecolor\":\"white\",\"ticks\":\"\"},\"baxis\":{\"gridcolor\":\"white\",\"linecolor\":\"white\",\"ticks\":\"\"},\"caxis\":{\"gridcolor\":\"white\",\"linecolor\":\"white\",\"ticks\":\"\"}},\"coloraxis\":{\"colorbar\":{\"outlinewidth\":0,\"ticks\":\"\"}},\"colorscale\":{\"sequential\":[[0.0,\"#0d0887\"],[0.1111111111111111,\"#46039f\"],[0.2222222222222222,\"#7201a8\"],[0.3333333333333333,\"#9c179e\"],[0.4444444444444444,\"#bd3786\"],[0.5555555555555556,\"#d8576b\"],[0.6666666666666666,\"#ed7953\"],[0.7777777777777778,\"#fb9f3a\"],[0.8888888888888888,\"#fdca26\"],[1.0,\"#f0f921\"]],\"sequentialminus\":[[0.0,\"#0d0887\"],[0.1111111111111111,\"#46039f\"],[0.2222222222222222,\"#7201a8\"],[0.3333333333333333,\"#9c179e\"],[0.4444444444444444,\"#bd3786\"],[0.5555555555555556,\"#d8576b\"],[0.6666666666666666,\"#ed7953\"],[0.7777777777777778,\"#fb9f3a\"],[0.8888888888888888,\"#fdca26\"],[1.0,\"#f0f921\"]],\"diverging\":[[0,\"#8e0152\"],[0.1,\"#c51b7d\"],[0.2,\"#de77ae\"],[0.3,\"#f1b6da\"],[0.4,\"#fde0ef\"],[0.5,\"#f7f7f7\"],[0.6,\"#e6f5d0\"],[0.7,\"#b8e186\"],[0.8,\"#7fbc41\"],[0.9,\"#4d9221\"],[1,\"#276419\"]]},\"xaxis\":{\"gridcolor\":\"white\",\"linecolor\":\"white\",\"ticks\":\"\",\"title\":{\"standoff\":15},\"zerolinecolor\":\"white\",\"automargin\":true,\"zerolinewidth\":2},\"yaxis\":{\"gridcolor\":\"white\",\"linecolor\":\"white\",\"ticks\":\"\",\"title\":{\"standoff\":15},\"zerolinecolor\":\"white\",\"automargin\":true,\"zerolinewidth\":2},\"scene\":{\"xaxis\":{\"backgroundcolor\":\"#E5ECF6\",\"gridcolor\":\"white\",\"linecolor\":\"white\",\"showbackground\":true,\"ticks\":\"\",\"zerolinecolor\":\"white\",\"gridwidth\":2},\"yaxis\":{\"backgroundcolor\":\"#E5ECF6\",\"gridcolor\":\"white\",\"linecolor\":\"white\",\"showbackground\":true,\"ticks\":\"\",\"zerolinecolor\":\"white\",\"gridwidth\":2},\"zaxis\":{\"backgroundcolor\":\"#E5ECF6\",\"gridcolor\":\"white\",\"linecolor\":\"white\",\"showbackground\":true,\"ticks\":\"\",\"zerolinecolor\":\"white\",\"gridwidth\":2}},\"shapedefaults\":{\"line\":{\"color\":\"#2a3f5f\"}},\"annotationdefaults\":{\"arrowcolor\":\"#2a3f5f\",\"arrowhead\":0,\"arrowwidth\":1},\"geo\":{\"bgcolor\":\"white\",\"landcolor\":\"#E5ECF6\",\"subunitcolor\":\"white\",\"showland\":true,\"showlakes\":true,\"lakecolor\":\"white\"},\"title\":{\"x\":0.05},\"mapbox\":{\"style\":\"light\"}}},\"title\":{\"text\":\"Portfolio Log Returns Distribution with VaR and CVaR\"},\"xaxis\":{\"title\":{\"text\":\"Log Returns\"}},\"yaxis\":{\"title\":{\"text\":\"Probability\"}}},                        {\"responsive\": true}                    ).then(function(){\n",
       "                            \n",
       "var gd = document.getElementById('6ddf81d8-1ea5-489f-96ef-e163794a522c');\n",
       "var x = new MutationObserver(function (mutations, observer) {{\n",
       "        var display = window.getComputedStyle(gd).display;\n",
       "        if (!display || display === 'none') {{\n",
       "            console.log([gd, 'removed!']);\n",
       "            Plotly.purge(gd);\n",
       "            observer.disconnect();\n",
       "        }}\n",
       "}});\n",
       "\n",
       "// Listen for the removal of the full notebook cells\n",
       "var notebookContainer = gd.closest('#notebook-container');\n",
       "if (notebookContainer) {{\n",
       "    x.observe(notebookContainer, {childList: true});\n",
       "}}\n",
       "\n",
       "// Listen for the clearing of the current output cell\n",
       "var outputEl = gd.closest('.output');\n",
       "if (outputEl) {{\n",
       "    x.observe(outputEl, {childList: true});\n",
       "}}\n",
       "\n",
       "                        })                };                });            </script>        </div>"
      ]
     },
     "metadata": {},
     "output_type": "display_data"
    }
   ],
   "source": [
    "import yfinance as yf\n",
    "import pandas as pd\n",
    "import numpy as np\n",
    "import plotly.graph_objects as go\n",
    "from scipy.stats import norm\n",
    "\n",
    "# List of tickers\n",
    "tickers = ['FRCH.L', 'IIND.L', 'BBDS.L', 'BCOG.L', 'VWRL.L', 'IUSA.L', 'GLDW.L']\n",
    "\n",
    "# Fetch data\n",
    "data = yf.download(tickers, start=\"2023-01-01\", end=\"2024-01-01\")['Adj Close']\n",
    "\n",
    "# Calculate daily log returns\n",
    "log_returns = np.log(data / data.shift(1)).dropna()\n",
    "\n",
    "# Portfolio weights (example: equally weighted)\n",
    "weights = np.array([1/len(tickers)] * len(tickers))\n",
    "\n",
    "# Calculate portfolio log returns\n",
    "portfolio_log_returns = log_returns.dot(weights)\n",
    "\n",
    "# Calculate mean and standard deviation of portfolio log returns\n",
    "mean_log_return = portfolio_log_returns.mean()\n",
    "std_log_return = portfolio_log_returns.std()\n",
    "\n",
    "# Confidence level\n",
    "confidence_level = 0.95\n",
    "alpha = 1 - confidence_level\n",
    "\n",
    "# Calculate VaR using the parametric method with log-normal returns\n",
    "VaR = norm.ppf(alpha, mean_log_return, std_log_return)\n",
    "\n",
    "# Calculate CVaR (also known as Expected Shortfall) with log-normal returns\n",
    "CVaR = alpha**-1 * norm.pdf(norm.ppf(alpha)) * std_log_return - mean_log_return\n",
    "\n",
    "# Plotting the distribution of log returns\n",
    "fig = go.Figure()\n",
    "\n",
    "# Histogram of log returns\n",
    "fig.add_trace(go.Histogram(x=portfolio_log_returns, nbinsx=50, name='Log Returns', histnorm='probability'))\n",
    "\n",
    "# VaR line\n",
    "fig.add_trace(go.Scatter(x=[VaR, VaR], y=[0, 0.1], mode='lines', name='VaR', line=dict(color='red', dash='dash')))\n",
    "\n",
    "# CVaR line\n",
    "fig.add_trace(go.Scatter(x=[CVaR, CVaR], y=[0, 0.1], mode='lines', name='CVaR', line=dict(color='blue', dash='dash')))\n",
    "\n",
    "fig.update_layout(title='Portfolio Log Returns Distribution with VaR and CVaR',\n",
    "                  xaxis_title='Log Returns',\n",
    "                  yaxis_title='Probability')\n",
    "\n",
    "print(f\"Parametric VaR at {confidence_level*100}% confidence level: {VaR:.2%}\")\n",
    "print(f\"Conditional VaR (CVaR) at {confidence_level*100}% confidence level: {CVaR:.2%}\")\n",
    "\n",
    "fig.show()"
   ]
  },
  {
   "cell_type": "code",
   "execution_count": 43,
   "id": "553f3680-0b9f-4ed1-95f2-46bec42b32b4",
   "metadata": {},
   "outputs": [
    {
     "name": "stderr",
     "output_type": "stream",
     "text": [
      "[*********************100%%**********************]  7 of 7 completed\n",
      "[*********************100%%**********************]  7 of 7 completed\n"
     ]
    },
    {
     "name": "stdout",
     "output_type": "stream",
     "text": [
      "Parametric VaR at 95.0% confidence level: -0.94%\n",
      "Conditional VaR (CVaR) at 95.0% confidence level: 1.18%\n"
     ]
    },
    {
     "data": {
      "application/vnd.plotly.v1+json": {
       "config": {
        "plotlyServerURL": "https://plot.ly"
       },
       "data": [
        {
         "histnorm": "probability",
         "name": "Log Returns 2023",
         "nbinsx": 50,
         "opacity": 0.75,
         "type": "histogram",
         "x": [
          0.004970208747915015,
          0.0036408330635115125,
          0.0008150238454541169,
          0.0031519976906893964,
          -0.004625193411841274,
          0.010121525040320408,
          0.003914791797406746,
          0.003199649640126505,
          0.0013658150938106015,
          -0.00547954811953639,
          -0.009115290738700996,
          -0.007925265450698,
          0.00823949736924678,
          0.011134617082353249,
          0.0035032203889553953,
          -0.00951715723569185,
          0.0046116845822939435,
          0.00015059761496321548,
          -0.005798521412527994,
          0.003660553552732465,
          0.0017844168126700919,
          0.011413118993199642,
          0.005457424177968306,
          -0.006237374849016939,
          0.0006942098974845923,
          -0.0033704014510666457,
          -0.0027757148035461865,
          -0.0026522895242666114,
          0.00022815729548916676,
          -0.00530178632340429,
          0.011418266341514702,
          0.0018913432453435237,
          -0.010794008400872477,
          0.0025291043815666996,
          -0.017902290026085472,
          -0.0008412539057458483,
          -0.0002710447576096352,
          -0.0035668917982144325,
          -0.00012317046624435907,
          -0.007851530942157636,
          0.012404726179665915,
          0.007336932085516527,
          0.009599535425216492,
          -0.00021156461011216188,
          -0.0007520040271380895,
          -0.0017945643470311558,
          -0.012707161550832109,
          -0.019214072492260953,
          -0.014176474514602992,
          0.0056765587520761045,
          -0.009897700307671604,
          0.006471842950223141,
          -0.006268675194962876,
          -0.004070875226659631,
          0.010532327026198414,
          0.001608816215046319,
          -0.001126083812950937,
          -0.0029321618351867314,
          -0.0018434277452504207,
          0.0010918836286947806,
          0.006311616732710171,
          0.0035868407326878236,
          0.0073784365377050085,
          0.001525032283180851,
          -0.008569600507674486,
          -0.0016651490594467137,
          0.004596322002069862,
          0.006805009660913923,
          -0.004678394054085159,
          0.0015605467695455457,
          0.0017536201132911018,
          0.008155056373814395,
          -0.0016664956736528885,
          -0.005903705479302404,
          -0.0032462976836900364,
          -0.004108391658392442,
          -0.0033391917879879783,
          -0.0033550366961575505,
          -0.00528335459756615,
          -0.0008652276916590296,
          0.003281425905879438,
          -0.0027465829007907267,
          -0.0027855454781731174,
          -0.003988532967128946,
          0.0032091714870957906,
          0.0003442031270505725,
          0.002091535031633452,
          0.003606990568225457,
          -0.001204020529067437,
          0.006619997280657164,
          -0.0029263182811605937,
          -0.0024708938065694237,
          0.004302171298493732,
          -0.001409024512160653,
          0.006407682556392423,
          -0.0027775926055892946,
          -0.0071501147124632645,
          -0.0028864905638617796,
          0.010324758870143697,
          -0.01033621539315173,
          -0.007454355613222872,
          0.0039523300514977665,
          0.01708150445164477,
          0.002595117808842854,
          0.005916526774961147,
          0.00036198382190176135,
          -0.006242345755808627,
          -0.0025016273179546567,
          0.005668196774485665,
          0.0007701144964108617,
          -0.0014851135486538894,
          -0.0017998038386357754,
          -9.017729065557704e-05,
          -0.002661452631840375,
          -0.005686594107613713,
          0.000458172574654982,
          -0.006609130394710511,
          -0.005569646686270335,
          0.0017198089851526918,
          0.0023325172140593966,
          0.009116550044146047,
          0.0017482321415135905,
          0.0018546892855311622,
          0.006546041964958901,
          -0.0008261929328674849,
          -0.0038594468087729734,
          -0.014075669334285182,
          0.001441676318664686,
          0.0009342236680052381,
          0.00014366783937789612,
          0.00816211172996387,
          -0.003754892267749309,
          -0.002298672069065454,
          0.0015779383298737465,
          0.005538991758635439,
          0.018622199026254862,
          -0.00174702244255086,
          -2.3859517256596255e-05,
          0.006581113160109511,
          0.0008483277136860742,
          -0.0033291614954779046,
          0.003640771704502759,
          0.008175927667602648,
          0.0025451173563714115,
          -3.7488405383631575e-05,
          -0.010525436922222717,
          0.0018117734941953604,
          -0.0004052683907770317,
          -0.005630399422678172,
          -0.004994558399095364,
          0.002258508384689422,
          0.00456565669650454,
          -0.009937948688279066,
          -0.0010085390761159496,
          -0.008962386406345007,
          -0.005003663256627702,
          -0.004354063683276532,
          -0.005762417451285671,
          -0.001001032938479575,
          0.0028005311801244013,
          0.011592650155244891,
          0.003570501547998784,
          0.0003978007989222826,
          0.017283520688066916,
          -0.005822834918993162,
          0.0038189340281847596,
          0.010964834698909205,
          -0.002889913350978575,
          0.0015452948102062424,
          -0.0008396901807906908,
          -0.0033102063738249367,
          0.0027494631856420345,
          0.000413420281814043,
          0.002642830124755538,
          -0.0014589343091055479,
          0.009456724985888162,
          -0.002447705160948464,
          -0.0008553573039146522,
          -0.0023067226335635746,
          0.0027336869309106788,
          -0.011271840760622622,
          0.007557864605697275,
          -0.0018860509395335337,
          -0.00317746690109299,
          0.0008255753927677887,
          -0.005394239177319798,
          0.0019810339178798994,
          -0.003319430804098591,
          -0.006464035352949943,
          -0.009235937963578907,
          -0.0033714483048928683,
          0.005364083468162247,
          0.005406213630984109,
          0.009629878349748607,
          -0.002945406866141674,
          0.003637259615686644,
          0.005702021229502785,
          0.0018351331256077305,
          0.0009675441103655278,
          -0.0028355675567734258,
          -0.00032252110014206455,
          -0.011819936057011732,
          -0.009323538642198785,
          0.006512182115858564,
          -0.0035046694195090006,
          -0.003209859542339395,
          -0.0016790639047148152,
          0.003063551788639474,
          -0.0005047534405487517,
          0.003319994312550232,
          0.008416780661550745,
          0.00022888873361135738,
          -0.0023726488823562395,
          0.0035766376587795935,
          -0.002307113549776113,
          0.0005512800157250018,
          -0.0009569924898185167,
          0.003423434358513233,
          0.0022123630873768572,
          0.009345734652846887,
          -0.010372192923030842,
          0.003157437610573088,
          0.00043442347413141856,
          -0.0033285076944316646,
          0.005473710391106717,
          -0.002983849964805112,
          -0.00643857785703523,
          -0.0027541291656995835,
          -0.0001588319143753355,
          -0.0005195576199417273,
          0.0025681385811333517,
          0.0043622384033624555,
          -0.0005709351032363578,
          -0.0012596671171051183,
          0.0023118081884683775,
          -0.0003262944364636841,
          0.0013869650883500584,
          -0.0008981527441251407,
          -0.0002243143205922398,
          0.0023617638360045714,
          0.005608368955088073,
          0.006882270390085122,
          0.0005835089411039974,
          0.0006598556180075204,
          0.001670552667608868,
          -0.0002386848662401847,
          -0.005241352047424363,
          0.005169261941630758,
          0.008756969394330637,
          -0.0022418621001589
         ]
        },
        {
         "histnorm": "probability",
         "name": "Log Returns Pre-2023",
         "nbinsx": 50,
         "opacity": 0.75,
         "type": "histogram",
         "x": [
          0.0007930852577400757,
          0.01022330294228186,
          0.009241698132922922,
          0.001957886744514065,
          0.001973081073739339,
          -0.029738469908833106,
          0.0061540767224993916,
          0.00422813006146116,
          -0.003207203590733577,
          -0.003613579583970187,
          0.007074283949541678,
          0.0036685135201274238,
          -0.0038897997585633456,
          -0.009120650879583324,
          0.0016137525828350172,
          -0.008058514673333812,
          0.01002617085433161,
          -0.0031146330867085365,
          -0.010095327284209058,
          0.00654698273019854,
          0.005917600392273211,
          0.00482710852008852,
          0.003920385145501516,
          -0.0059132860052432705,
          -0.006300324242278508,
          -0.0036743230067039483,
          -0.009503970586896063,
          0.003291215688178388,
          0.002769901304182006,
          -0.012371765158846498,
          0.006934512839205685,
          0.0038610706571423686,
          0.004307030764949659,
          0.004682160661960399,
          -0.03536133514935268,
          0.000764362989496702,
          -0.015261450112327131,
          0.020727524866198773,
          0.008446359756192349,
          0.009279925996617542,
          -0.012201372023172256,
          -0.006453611553614914,
          -0.013088207081037,
          0.0006700337554830522,
          -0.020435317837291835,
          0.008406123888396642,
          -0.005401956050847366,
          0.007828377056416145,
          -0.003871987081930918,
          0.0029057508644521634,
          0.00045821379678559775,
          -0.009374298464595263,
          -0.0036453890069569534,
          0.006999732429616632,
          -0.007077418183914785,
          -0.01115324813012032,
          0.012941159599079002,
          0.011129859498705303,
          -0.0022477020209116117,
          0.013639378858942168,
          0.00941429940787617,
          -0.00398459739969608,
          0.00044739949024437853,
          -0.0019454134247374748,
          0.004576002233787053,
          0.0053560024835361915,
          0.007081058277260424,
          -0.0017148341820234472,
          -0.012321159178171524,
          -0.0007021193588496165,
          -0.009125122075350729,
          0.00029400658406930066,
          0.001816250099498614,
          -0.010038757754925753,
          -0.0010616768793701018,
          0.0004445723071314196,
          -0.0013988532188250224,
          0.009766179473037108,
          0.012353404615272845,
          -0.00821924117771225,
          -0.002276968363322077,
          -0.004113953992043431,
          -0.012760305697063701,
          -0.0015867030338222144,
          0.006869559723242548,
          -0.003736995749662164,
          -0.0034633009136858846,
          0.009809139449156505,
          -0.0026965974325415267,
          -0.012588650921934178,
          0.00101738493768349,
          -0.003259541135448766,
          0.0005037410848704007,
          0.014080292821636756,
          -0.007943344998826676,
          -0.0025977595426225453,
          0.004096324989162457,
          0.0073039629821760954,
          -0.0013540807017988384
         ]
        }
       ],
       "layout": {
        "autosize": true,
        "barmode": "overlay",
        "template": {
         "data": {
          "bar": [
           {
            "error_x": {
             "color": "#2a3f5f"
            },
            "error_y": {
             "color": "#2a3f5f"
            },
            "marker": {
             "line": {
              "color": "#E5ECF6",
              "width": 0.5
             },
             "pattern": {
              "fillmode": "overlay",
              "size": 10,
              "solidity": 0.2
             }
            },
            "type": "bar"
           }
          ],
          "barpolar": [
           {
            "marker": {
             "line": {
              "color": "#E5ECF6",
              "width": 0.5
             },
             "pattern": {
              "fillmode": "overlay",
              "size": 10,
              "solidity": 0.2
             }
            },
            "type": "barpolar"
           }
          ],
          "carpet": [
           {
            "aaxis": {
             "endlinecolor": "#2a3f5f",
             "gridcolor": "white",
             "linecolor": "white",
             "minorgridcolor": "white",
             "startlinecolor": "#2a3f5f"
            },
            "baxis": {
             "endlinecolor": "#2a3f5f",
             "gridcolor": "white",
             "linecolor": "white",
             "minorgridcolor": "white",
             "startlinecolor": "#2a3f5f"
            },
            "type": "carpet"
           }
          ],
          "choropleth": [
           {
            "colorbar": {
             "outlinewidth": 0,
             "ticks": ""
            },
            "type": "choropleth"
           }
          ],
          "contour": [
           {
            "colorbar": {
             "outlinewidth": 0,
             "ticks": ""
            },
            "colorscale": [
             [
              0,
              "#0d0887"
             ],
             [
              0.1111111111111111,
              "#46039f"
             ],
             [
              0.2222222222222222,
              "#7201a8"
             ],
             [
              0.3333333333333333,
              "#9c179e"
             ],
             [
              0.4444444444444444,
              "#bd3786"
             ],
             [
              0.5555555555555556,
              "#d8576b"
             ],
             [
              0.6666666666666666,
              "#ed7953"
             ],
             [
              0.7777777777777778,
              "#fb9f3a"
             ],
             [
              0.8888888888888888,
              "#fdca26"
             ],
             [
              1,
              "#f0f921"
             ]
            ],
            "type": "contour"
           }
          ],
          "contourcarpet": [
           {
            "colorbar": {
             "outlinewidth": 0,
             "ticks": ""
            },
            "type": "contourcarpet"
           }
          ],
          "heatmap": [
           {
            "colorbar": {
             "outlinewidth": 0,
             "ticks": ""
            },
            "colorscale": [
             [
              0,
              "#0d0887"
             ],
             [
              0.1111111111111111,
              "#46039f"
             ],
             [
              0.2222222222222222,
              "#7201a8"
             ],
             [
              0.3333333333333333,
              "#9c179e"
             ],
             [
              0.4444444444444444,
              "#bd3786"
             ],
             [
              0.5555555555555556,
              "#d8576b"
             ],
             [
              0.6666666666666666,
              "#ed7953"
             ],
             [
              0.7777777777777778,
              "#fb9f3a"
             ],
             [
              0.8888888888888888,
              "#fdca26"
             ],
             [
              1,
              "#f0f921"
             ]
            ],
            "type": "heatmap"
           }
          ],
          "heatmapgl": [
           {
            "colorbar": {
             "outlinewidth": 0,
             "ticks": ""
            },
            "colorscale": [
             [
              0,
              "#0d0887"
             ],
             [
              0.1111111111111111,
              "#46039f"
             ],
             [
              0.2222222222222222,
              "#7201a8"
             ],
             [
              0.3333333333333333,
              "#9c179e"
             ],
             [
              0.4444444444444444,
              "#bd3786"
             ],
             [
              0.5555555555555556,
              "#d8576b"
             ],
             [
              0.6666666666666666,
              "#ed7953"
             ],
             [
              0.7777777777777778,
              "#fb9f3a"
             ],
             [
              0.8888888888888888,
              "#fdca26"
             ],
             [
              1,
              "#f0f921"
             ]
            ],
            "type": "heatmapgl"
           }
          ],
          "histogram": [
           {
            "marker": {
             "pattern": {
              "fillmode": "overlay",
              "size": 10,
              "solidity": 0.2
             }
            },
            "type": "histogram"
           }
          ],
          "histogram2d": [
           {
            "colorbar": {
             "outlinewidth": 0,
             "ticks": ""
            },
            "colorscale": [
             [
              0,
              "#0d0887"
             ],
             [
              0.1111111111111111,
              "#46039f"
             ],
             [
              0.2222222222222222,
              "#7201a8"
             ],
             [
              0.3333333333333333,
              "#9c179e"
             ],
             [
              0.4444444444444444,
              "#bd3786"
             ],
             [
              0.5555555555555556,
              "#d8576b"
             ],
             [
              0.6666666666666666,
              "#ed7953"
             ],
             [
              0.7777777777777778,
              "#fb9f3a"
             ],
             [
              0.8888888888888888,
              "#fdca26"
             ],
             [
              1,
              "#f0f921"
             ]
            ],
            "type": "histogram2d"
           }
          ],
          "histogram2dcontour": [
           {
            "colorbar": {
             "outlinewidth": 0,
             "ticks": ""
            },
            "colorscale": [
             [
              0,
              "#0d0887"
             ],
             [
              0.1111111111111111,
              "#46039f"
             ],
             [
              0.2222222222222222,
              "#7201a8"
             ],
             [
              0.3333333333333333,
              "#9c179e"
             ],
             [
              0.4444444444444444,
              "#bd3786"
             ],
             [
              0.5555555555555556,
              "#d8576b"
             ],
             [
              0.6666666666666666,
              "#ed7953"
             ],
             [
              0.7777777777777778,
              "#fb9f3a"
             ],
             [
              0.8888888888888888,
              "#fdca26"
             ],
             [
              1,
              "#f0f921"
             ]
            ],
            "type": "histogram2dcontour"
           }
          ],
          "mesh3d": [
           {
            "colorbar": {
             "outlinewidth": 0,
             "ticks": ""
            },
            "type": "mesh3d"
           }
          ],
          "parcoords": [
           {
            "line": {
             "colorbar": {
              "outlinewidth": 0,
              "ticks": ""
             }
            },
            "type": "parcoords"
           }
          ],
          "pie": [
           {
            "automargin": true,
            "type": "pie"
           }
          ],
          "scatter": [
           {
            "fillpattern": {
             "fillmode": "overlay",
             "size": 10,
             "solidity": 0.2
            },
            "type": "scatter"
           }
          ],
          "scatter3d": [
           {
            "line": {
             "colorbar": {
              "outlinewidth": 0,
              "ticks": ""
             }
            },
            "marker": {
             "colorbar": {
              "outlinewidth": 0,
              "ticks": ""
             }
            },
            "type": "scatter3d"
           }
          ],
          "scattercarpet": [
           {
            "marker": {
             "colorbar": {
              "outlinewidth": 0,
              "ticks": ""
             }
            },
            "type": "scattercarpet"
           }
          ],
          "scattergeo": [
           {
            "marker": {
             "colorbar": {
              "outlinewidth": 0,
              "ticks": ""
             }
            },
            "type": "scattergeo"
           }
          ],
          "scattergl": [
           {
            "marker": {
             "colorbar": {
              "outlinewidth": 0,
              "ticks": ""
             }
            },
            "type": "scattergl"
           }
          ],
          "scattermapbox": [
           {
            "marker": {
             "colorbar": {
              "outlinewidth": 0,
              "ticks": ""
             }
            },
            "type": "scattermapbox"
           }
          ],
          "scatterpolar": [
           {
            "marker": {
             "colorbar": {
              "outlinewidth": 0,
              "ticks": ""
             }
            },
            "type": "scatterpolar"
           }
          ],
          "scatterpolargl": [
           {
            "marker": {
             "colorbar": {
              "outlinewidth": 0,
              "ticks": ""
             }
            },
            "type": "scatterpolargl"
           }
          ],
          "scatterternary": [
           {
            "marker": {
             "colorbar": {
              "outlinewidth": 0,
              "ticks": ""
             }
            },
            "type": "scatterternary"
           }
          ],
          "surface": [
           {
            "colorbar": {
             "outlinewidth": 0,
             "ticks": ""
            },
            "colorscale": [
             [
              0,
              "#0d0887"
             ],
             [
              0.1111111111111111,
              "#46039f"
             ],
             [
              0.2222222222222222,
              "#7201a8"
             ],
             [
              0.3333333333333333,
              "#9c179e"
             ],
             [
              0.4444444444444444,
              "#bd3786"
             ],
             [
              0.5555555555555556,
              "#d8576b"
             ],
             [
              0.6666666666666666,
              "#ed7953"
             ],
             [
              0.7777777777777778,
              "#fb9f3a"
             ],
             [
              0.8888888888888888,
              "#fdca26"
             ],
             [
              1,
              "#f0f921"
             ]
            ],
            "type": "surface"
           }
          ],
          "table": [
           {
            "cells": {
             "fill": {
              "color": "#EBF0F8"
             },
             "line": {
              "color": "white"
             }
            },
            "header": {
             "fill": {
              "color": "#C8D4E3"
             },
             "line": {
              "color": "white"
             }
            },
            "type": "table"
           }
          ]
         },
         "layout": {
          "annotationdefaults": {
           "arrowcolor": "#2a3f5f",
           "arrowhead": 0,
           "arrowwidth": 1
          },
          "autotypenumbers": "strict",
          "coloraxis": {
           "colorbar": {
            "outlinewidth": 0,
            "ticks": ""
           }
          },
          "colorscale": {
           "diverging": [
            [
             0,
             "#8e0152"
            ],
            [
             0.1,
             "#c51b7d"
            ],
            [
             0.2,
             "#de77ae"
            ],
            [
             0.3,
             "#f1b6da"
            ],
            [
             0.4,
             "#fde0ef"
            ],
            [
             0.5,
             "#f7f7f7"
            ],
            [
             0.6,
             "#e6f5d0"
            ],
            [
             0.7,
             "#b8e186"
            ],
            [
             0.8,
             "#7fbc41"
            ],
            [
             0.9,
             "#4d9221"
            ],
            [
             1,
             "#276419"
            ]
           ],
           "sequential": [
            [
             0,
             "#0d0887"
            ],
            [
             0.1111111111111111,
             "#46039f"
            ],
            [
             0.2222222222222222,
             "#7201a8"
            ],
            [
             0.3333333333333333,
             "#9c179e"
            ],
            [
             0.4444444444444444,
             "#bd3786"
            ],
            [
             0.5555555555555556,
             "#d8576b"
            ],
            [
             0.6666666666666666,
             "#ed7953"
            ],
            [
             0.7777777777777778,
             "#fb9f3a"
            ],
            [
             0.8888888888888888,
             "#fdca26"
            ],
            [
             1,
             "#f0f921"
            ]
           ],
           "sequentialminus": [
            [
             0,
             "#0d0887"
            ],
            [
             0.1111111111111111,
             "#46039f"
            ],
            [
             0.2222222222222222,
             "#7201a8"
            ],
            [
             0.3333333333333333,
             "#9c179e"
            ],
            [
             0.4444444444444444,
             "#bd3786"
            ],
            [
             0.5555555555555556,
             "#d8576b"
            ],
            [
             0.6666666666666666,
             "#ed7953"
            ],
            [
             0.7777777777777778,
             "#fb9f3a"
            ],
            [
             0.8888888888888888,
             "#fdca26"
            ],
            [
             1,
             "#f0f921"
            ]
           ]
          },
          "colorway": [
           "#636efa",
           "#EF553B",
           "#00cc96",
           "#ab63fa",
           "#FFA15A",
           "#19d3f3",
           "#FF6692",
           "#B6E880",
           "#FF97FF",
           "#FECB52"
          ],
          "font": {
           "color": "#2a3f5f"
          },
          "geo": {
           "bgcolor": "white",
           "lakecolor": "white",
           "landcolor": "#E5ECF6",
           "showlakes": true,
           "showland": true,
           "subunitcolor": "white"
          },
          "hoverlabel": {
           "align": "left"
          },
          "hovermode": "closest",
          "mapbox": {
           "style": "light"
          },
          "paper_bgcolor": "white",
          "plot_bgcolor": "#E5ECF6",
          "polar": {
           "angularaxis": {
            "gridcolor": "white",
            "linecolor": "white",
            "ticks": ""
           },
           "bgcolor": "#E5ECF6",
           "radialaxis": {
            "gridcolor": "white",
            "linecolor": "white",
            "ticks": ""
           }
          },
          "scene": {
           "xaxis": {
            "backgroundcolor": "#E5ECF6",
            "gridcolor": "white",
            "gridwidth": 2,
            "linecolor": "white",
            "showbackground": true,
            "ticks": "",
            "zerolinecolor": "white"
           },
           "yaxis": {
            "backgroundcolor": "#E5ECF6",
            "gridcolor": "white",
            "gridwidth": 2,
            "linecolor": "white",
            "showbackground": true,
            "ticks": "",
            "zerolinecolor": "white"
           },
           "zaxis": {
            "backgroundcolor": "#E5ECF6",
            "gridcolor": "white",
            "gridwidth": 2,
            "linecolor": "white",
            "showbackground": true,
            "ticks": "",
            "zerolinecolor": "white"
           }
          },
          "shapedefaults": {
           "line": {
            "color": "#2a3f5f"
           }
          },
          "ternary": {
           "aaxis": {
            "gridcolor": "white",
            "linecolor": "white",
            "ticks": ""
           },
           "baxis": {
            "gridcolor": "white",
            "linecolor": "white",
            "ticks": ""
           },
           "bgcolor": "#E5ECF6",
           "caxis": {
            "gridcolor": "white",
            "linecolor": "white",
            "ticks": ""
           }
          },
          "title": {
           "x": 0.05
          },
          "xaxis": {
           "automargin": true,
           "gridcolor": "white",
           "linecolor": "white",
           "ticks": "",
           "title": {
            "standoff": 15
           },
           "zerolinecolor": "white",
           "zerolinewidth": 2
          },
          "yaxis": {
           "automargin": true,
           "gridcolor": "white",
           "linecolor": "white",
           "ticks": "",
           "title": {
            "standoff": 15
           },
           "zerolinecolor": "white",
           "zerolinewidth": 2
          }
         }
        },
        "title": {
         "text": "Portfolio Log Returns Distribution for Different Periods"
        },
        "xaxis": {
         "autorange": true,
         "range": [
          -0.036000000000000004,
          0.022
         ],
         "title": {
          "text": "Log Returns"
         },
         "type": "linear"
        },
        "yaxis": {
         "autorange": true,
         "range": [
          0,
          0.1594896331738437
         ],
         "title": {
          "text": "Probability"
         }
        }
       }
      },
      "image/png": "[encoded data removed]",
      "text/html": [
       "<div>                            <div id=\"d2a2e042-1c1e-4d72-9757-c4f935af914a\" class=\"plotly-graph-div\" style=\"height:525px; width:100%;\"></div>            <script type=\"text/javascript\">                require([\"plotly\"], function(Plotly) {                    window.PLOTLYENV=window.PLOTLYENV || {};                                    if (document.getElementById(\"d2a2e042-1c1e-4d72-9757-c4f935af914a\")) {                    Plotly.newPlot(                        \"d2a2e042-1c1e-4d72-9757-c4f935af914a\",                        [{\"histnorm\":\"probability\",\"name\":\"Log Returns 2023\",\"nbinsx\":50,\"opacity\":0.75,\"x\":[0.004970208747915015,0.0036408330635115125,0.0008150238454541169,0.0031519976906893964,-0.004625193411841274,0.010121525040320408,0.003914791797406746,0.003199649640126505,0.0013658150938106015,-0.00547954811953639,-0.009115290738700996,-0.007925265450698,0.00823949736924678,0.011134617082353249,0.0035032203889553953,-0.00951715723569185,0.0046116845822939435,0.00015059761496321548,-0.005798521412527994,0.003660553552732465,0.0017844168126700919,0.011413118993199642,0.005457424177968306,-0.006237374849016939,0.0006942098974845923,-0.0033704014510666457,-0.0027757148035461865,-0.0026522895242666114,0.00022815729548916676,-0.00530178632340429,0.011418266341514702,0.0018913432453435237,-0.010794008400872477,0.0025291043815666996,-0.017902290026085472,-0.0008412539057458483,-0.0002710447576096352,-0.0035668917982144325,-0.00012317046624435907,-0.007851530942157636,0.012404726179665915,0.007336932085516527,0.009599535425216492,-0.00021156461011216188,-0.0007520040271380895,-0.0017945643470311558,-0.012707161550832109,-0.019214072492260953,-0.014176474514602992,0.0056765587520761045,-0.009897700307671604,0.006471842950223141,-0.006268675194962876,-0.004070875226659631,0.010532327026198414,0.001608816215046319,-0.001126083812950937,-0.0029321618351867314,-0.0018434277452504207,0.0010918836286947806,0.006311616732710171,0.0035868407326878236,0.0073784365377050085,0.001525032283180851,-0.008569600507674486,-0.0016651490594467137,0.004596322002069862,0.006805009660913923,-0.004678394054085159,0.0015605467695455457,0.0017536201132911018,0.008155056373814395,-0.0016664956736528885,-0.005903705479302404,-0.0032462976836900364,-0.004108391658392442,-0.0033391917879879783,-0.0033550366961575505,-0.00528335459756615,-0.0008652276916590296,0.003281425905879438,-0.0027465829007907267,-0.0027855454781731174,-0.003988532967128946,0.0032091714870957906,0.0003442031270505725,0.002091535031633452,0.003606990568225457,-0.001204020529067437,0.006619997280657164,-0.0029263182811605937,-0.0024708938065694237,0.004302171298493732,-0.001409024512160653,0.006407682556392423,-0.0027775926055892946,-0.0071501147124632645,-0.0028864905638617796,0.010324758870143697,-0.01033621539315173,-0.007454355613222872,0.0039523300514977665,0.01708150445164477,0.002595117808842854,0.005916526774961147,0.00036198382190176135,-0.006242345755808627,-0.0025016273179546567,0.005668196774485665,0.0007701144964108617,-0.0014851135486538894,-0.0017998038386357754,-9.017729065557704e-05,-0.002661452631840375,-0.005686594107613713,0.000458172574654982,-0.006609130394710511,-0.005569646686270335,0.0017198089851526918,0.0023325172140593966,0.009116550044146047,0.0017482321415135905,0.0018546892855311622,0.006546041964958901,-0.0008261929328674849,-0.0038594468087729734,-0.014075669334285182,0.001441676318664686,0.0009342236680052381,0.00014366783937789612,0.00816211172996387,-0.003754892267749309,-0.002298672069065454,0.0015779383298737465,0.005538991758635439,0.018622199026254862,-0.00174702244255086,-2.3859517256596255e-05,0.006581113160109511,0.0008483277136860742,-0.0033291614954779046,0.003640771704502759,0.008175927667602648,0.0025451173563714115,-3.7488405383631575e-05,-0.010525436922222717,0.0018117734941953604,-0.0004052683907770317,-0.005630399422678172,-0.004994558399095364,0.002258508384689422,0.00456565669650454,-0.009937948688279066,-0.0010085390761159496,-0.008962386406345007,-0.005003663256627702,-0.004354063683276532,-0.005762417451285671,-0.001001032938479575,0.0028005311801244013,0.011592650155244891,0.003570501547998784,0.0003978007989222826,0.017283520688066916,-0.005822834918993162,0.0038189340281847596,0.010964834698909205,-0.002889913350978575,0.0015452948102062424,-0.0008396901807906908,-0.0033102063738249367,0.0027494631856420345,0.000413420281814043,0.002642830124755538,-0.0014589343091055479,0.009456724985888162,-0.002447705160948464,-0.0008553573039146522,-0.0023067226335635746,0.0027336869309106788,-0.011271840760622622,0.007557864605697275,-0.0018860509395335337,-0.00317746690109299,0.0008255753927677887,-0.005394239177319798,0.0019810339178798994,-0.003319430804098591,-0.006464035352949943,-0.009235937963578907,-0.0033714483048928683,0.005364083468162247,0.005406213630984109,0.009629878349748607,-0.002945406866141674,0.003637259615686644,0.005702021229502785,0.0018351331256077305,0.0009675441103655278,-0.0028355675567734258,-0.00032252110014206455,-0.011819936057011732,-0.009323538642198785,0.006512182115858564,-0.0035046694195090006,-0.003209859542339395,-0.0016790639047148152,0.003063551788639474,-0.0005047534405487517,0.003319994312550232,0.008416780661550745,0.00022888873361135738,-0.0023726488823562395,0.0035766376587795935,-0.002307113549776113,0.0005512800157250018,-0.0009569924898185167,0.003423434358513233,0.0022123630873768572,0.009345734652846887,-0.010372192923030842,0.003157437610573088,0.00043442347413141856,-0.0033285076944316646,0.005473710391106717,-0.002983849964805112,-0.00643857785703523,-0.0027541291656995835,-0.0001588319143753355,-0.0005195576199417273,0.0025681385811333517,0.0043622384033624555,-0.0005709351032363578,-0.0012596671171051183,0.0023118081884683775,-0.0003262944364636841,0.0013869650883500584,-0.0008981527441251407,-0.0002243143205922398,0.0023617638360045714,0.005608368955088073,0.006882270390085122,0.0005835089411039974,0.0006598556180075204,0.001670552667608868,-0.0002386848662401847,-0.005241352047424363,0.005169261941630758,0.008756969394330637,-0.0022418621001589],\"type\":\"histogram\"},{\"histnorm\":\"probability\",\"name\":\"Log Returns Pre-2023\",\"nbinsx\":50,\"opacity\":0.75,\"x\":[0.0007930852577400757,0.01022330294228186,0.009241698132922922,0.001957886744514065,0.001973081073739339,-0.029738469908833106,0.0061540767224993916,0.00422813006146116,-0.003207203590733577,-0.003613579583970187,0.007074283949541678,0.0036685135201274238,-0.0038897997585633456,-0.009120650879583324,0.0016137525828350172,-0.008058514673333812,0.01002617085433161,-0.0031146330867085365,-0.010095327284209058,0.00654698273019854,0.005917600392273211,0.00482710852008852,0.003920385145501516,-0.0059132860052432705,-0.006300324242278508,-0.0036743230067039483,-0.009503970586896063,0.003291215688178388,0.002769901304182006,-0.012371765158846498,0.006934512839205685,0.0038610706571423686,0.004307030764949659,0.004682160661960399,-0.03536133514935268,0.000764362989496702,-0.015261450112327131,0.020727524866198773,0.008446359756192349,0.009279925996617542,-0.012201372023172256,-0.006453611553614914,-0.013088207081037,0.0006700337554830522,-0.020435317837291835,0.008406123888396642,-0.005401956050847366,0.007828377056416145,-0.003871987081930918,0.0029057508644521634,0.00045821379678559775,-0.009374298464595263,-0.0036453890069569534,0.006999732429616632,-0.007077418183914785,-0.01115324813012032,0.012941159599079002,0.011129859498705303,-0.0022477020209116117,0.013639378858942168,0.00941429940787617,-0.00398459739969608,0.00044739949024437853,-0.0019454134247374748,0.004576002233787053,0.0053560024835361915,0.007081058277260424,-0.0017148341820234472,-0.012321159178171524,-0.0007021193588496165,-0.009125122075350729,0.00029400658406930066,0.001816250099498614,-0.010038757754925753,-0.0010616768793701018,0.0004445723071314196,-0.0013988532188250224,0.009766179473037108,0.012353404615272845,-0.00821924117771225,-0.002276968363322077,-0.004113953992043431,-0.012760305697063701,-0.0015867030338222144,0.006869559723242548,-0.003736995749662164,-0.0034633009136858846,0.009809139449156505,-0.0026965974325415267,-0.012588650921934178,0.00101738493768349,-0.003259541135448766,0.0005037410848704007,0.014080292821636756,-0.007943344998826676,-0.0025977595426225453,0.004096324989162457,0.0073039629821760954,-0.0013540807017988384],\"type\":\"histogram\"}],                        {\"template\":{\"data\":{\"histogram2dcontour\":[{\"type\":\"histogram2dcontour\",\"colorbar\":{\"outlinewidth\":0,\"ticks\":\"\"},\"colorscale\":[[0.0,\"#0d0887\"],[0.1111111111111111,\"#46039f\"],[0.2222222222222222,\"#7201a8\"],[0.3333333333333333,\"#9c179e\"],[0.4444444444444444,\"#bd3786\"],[0.5555555555555556,\"#d8576b\"],[0.6666666666666666,\"#ed7953\"],[0.7777777777777778,\"#fb9f3a\"],[0.8888888888888888,\"#fdca26\"],[1.0,\"#f0f921\"]]}],\"choropleth\":[{\"type\":\"choropleth\",\"colorbar\":{\"outlinewidth\":0,\"ticks\":\"\"}}],\"histogram2d\":[{\"type\":\"histogram2d\",\"colorbar\":{\"outlinewidth\":0,\"ticks\":\"\"},\"colorscale\":[[0.0,\"#0d0887\"],[0.1111111111111111,\"#46039f\"],[0.2222222222222222,\"#7201a8\"],[0.3333333333333333,\"#9c179e\"],[0.4444444444444444,\"#bd3786\"],[0.5555555555555556,\"#d8576b\"],[0.6666666666666666,\"#ed7953\"],[0.7777777777777778,\"#fb9f3a\"],[0.8888888888888888,\"#fdca26\"],[1.0,\"#f0f921\"]]}],\"heatmap\":[{\"type\":\"heatmap\",\"colorbar\":{\"outlinewidth\":0,\"ticks\":\"\"},\"colorscale\":[[0.0,\"#0d0887\"],[0.1111111111111111,\"#46039f\"],[0.2222222222222222,\"#7201a8\"],[0.3333333333333333,\"#9c179e\"],[0.4444444444444444,\"#bd3786\"],[0.5555555555555556,\"#d8576b\"],[0.6666666666666666,\"#ed7953\"],[0.7777777777777778,\"#fb9f3a\"],[0.8888888888888888,\"#fdca26\"],[1.0,\"#f0f921\"]]}],\"heatmapgl\":[{\"type\":\"heatmapgl\",\"colorbar\":{\"outlinewidth\":0,\"ticks\":\"\"},\"colorscale\":[[0.0,\"#0d0887\"],[0.1111111111111111,\"#46039f\"],[0.2222222222222222,\"#7201a8\"],[0.3333333333333333,\"#9c179e\"],[0.4444444444444444,\"#bd3786\"],[0.5555555555555556,\"#d8576b\"],[0.6666666666666666,\"#ed7953\"],[0.7777777777777778,\"#fb9f3a\"],[0.8888888888888888,\"#fdca26\"],[1.0,\"#f0f921\"]]}],\"contourcarpet\":[{\"type\":\"contourcarpet\",\"colorbar\":{\"outlinewidth\":0,\"ticks\":\"\"}}],\"contour\":[{\"type\":\"contour\",\"colorbar\":{\"outlinewidth\":0,\"ticks\":\"\"},\"colorscale\":[[0.0,\"#0d0887\"],[0.1111111111111111,\"#46039f\"],[0.2222222222222222,\"#7201a8\"],[0.3333333333333333,\"#9c179e\"],[0.4444444444444444,\"#bd3786\"],[0.5555555555555556,\"#d8576b\"],[0.6666666666666666,\"#ed7953\"],[0.7777777777777778,\"#fb9f3a\"],[0.8888888888888888,\"#fdca26\"],[1.0,\"#f0f921\"]]}],\"surface\":[{\"type\":\"surface\",\"colorbar\":{\"outlinewidth\":0,\"ticks\":\"\"},\"colorscale\":[[0.0,\"#0d0887\"],[0.1111111111111111,\"#46039f\"],[0.2222222222222222,\"#7201a8\"],[0.3333333333333333,\"#9c179e\"],[0.4444444444444444,\"#bd3786\"],[0.5555555555555556,\"#d8576b\"],[0.6666666666666666,\"#ed7953\"],[0.7777777777777778,\"#fb9f3a\"],[0.8888888888888888,\"#fdca26\"],[1.0,\"#f0f921\"]]}],\"mesh3d\":[{\"type\":\"mesh3d\",\"colorbar\":{\"outlinewidth\":0,\"ticks\":\"\"}}],\"scatter\":[{\"fillpattern\":{\"fillmode\":\"overlay\",\"size\":10,\"solidity\":0.2},\"type\":\"scatter\"}],\"parcoords\":[{\"type\":\"parcoords\",\"line\":{\"colorbar\":{\"outlinewidth\":0,\"ticks\":\"\"}}}],\"scatterpolargl\":[{\"type\":\"scatterpolargl\",\"marker\":{\"colorbar\":{\"outlinewidth\":0,\"ticks\":\"\"}}}],\"bar\":[{\"error_x\":{\"color\":\"#2a3f5f\"},\"error_y\":{\"color\":\"#2a3f5f\"},\"marker\":{\"line\":{\"color\":\"#E5ECF6\",\"width\":0.5},\"pattern\":{\"fillmode\":\"overlay\",\"size\":10,\"solidity\":0.2}},\"type\":\"bar\"}],\"scattergeo\":[{\"type\":\"scattergeo\",\"marker\":{\"colorbar\":{\"outlinewidth\":0,\"ticks\":\"\"}}}],\"scatterpolar\":[{\"type\":\"scatterpolar\",\"marker\":{\"colorbar\":{\"outlinewidth\":0,\"ticks\":\"\"}}}],\"histogram\":[{\"marker\":{\"pattern\":{\"fillmode\":\"overlay\",\"size\":10,\"solidity\":0.2}},\"type\":\"histogram\"}],\"scattergl\":[{\"type\":\"scattergl\",\"marker\":{\"colorbar\":{\"outlinewidth\":0,\"ticks\":\"\"}}}],\"scatter3d\":[{\"type\":\"scatter3d\",\"line\":{\"colorbar\":{\"outlinewidth\":0,\"ticks\":\"\"}},\"marker\":{\"colorbar\":{\"outlinewidth\":0,\"ticks\":\"\"}}}],\"scattermapbox\":[{\"type\":\"scattermapbox\",\"marker\":{\"colorbar\":{\"outlinewidth\":0,\"ticks\":\"\"}}}],\"scatterternary\":[{\"type\":\"scatterternary\",\"marker\":{\"colorbar\":{\"outlinewidth\":0,\"ticks\":\"\"}}}],\"scattercarpet\":[{\"type\":\"scattercarpet\",\"marker\":{\"colorbar\":{\"outlinewidth\":0,\"ticks\":\"\"}}}],\"carpet\":[{\"aaxis\":{\"endlinecolor\":\"#2a3f5f\",\"gridcolor\":\"white\",\"linecolor\":\"white\",\"minorgridcolor\":\"white\",\"startlinecolor\":\"#2a3f5f\"},\"baxis\":{\"endlinecolor\":\"#2a3f5f\",\"gridcolor\":\"white\",\"linecolor\":\"white\",\"minorgridcolor\":\"white\",\"startlinecolor\":\"#2a3f5f\"},\"type\":\"carpet\"}],\"table\":[{\"cells\":{\"fill\":{\"color\":\"#EBF0F8\"},\"line\":{\"color\":\"white\"}},\"header\":{\"fill\":{\"color\":\"#C8D4E3\"},\"line\":{\"color\":\"white\"}},\"type\":\"table\"}],\"barpolar\":[{\"marker\":{\"line\":{\"color\":\"#E5ECF6\",\"width\":0.5},\"pattern\":{\"fillmode\":\"overlay\",\"size\":10,\"solidity\":0.2}},\"type\":\"barpolar\"}],\"pie\":[{\"automargin\":true,\"type\":\"pie\"}]},\"layout\":{\"autotypenumbers\":\"strict\",\"colorway\":[\"#636efa\",\"#EF553B\",\"#00cc96\",\"#ab63fa\",\"#FFA15A\",\"#19d3f3\",\"#FF6692\",\"#B6E880\",\"#FF97FF\",\"#FECB52\"],\"font\":{\"color\":\"#2a3f5f\"},\"hovermode\":\"closest\",\"hoverlabel\":{\"align\":\"left\"},\"paper_bgcolor\":\"white\",\"plot_bgcolor\":\"#E5ECF6\",\"polar\":{\"bgcolor\":\"#E5ECF6\",\"angularaxis\":{\"gridcolor\":\"white\",\"linecolor\":\"white\",\"ticks\":\"\"},\"radialaxis\":{\"gridcolor\":\"white\",\"linecolor\":\"white\",\"ticks\":\"\"}},\"ternary\":{\"bgcolor\":\"#E5ECF6\",\"aaxis\":{\"gridcolor\":\"white\",\"linecolor\":\"white\",\"ticks\":\"\"},\"baxis\":{\"gridcolor\":\"white\",\"linecolor\":\"white\",\"ticks\":\"\"},\"caxis\":{\"gridcolor\":\"white\",\"linecolor\":\"white\",\"ticks\":\"\"}},\"coloraxis\":{\"colorbar\":{\"outlinewidth\":0,\"ticks\":\"\"}},\"colorscale\":{\"sequential\":[[0.0,\"#0d0887\"],[0.1111111111111111,\"#46039f\"],[0.2222222222222222,\"#7201a8\"],[0.3333333333333333,\"#9c179e\"],[0.4444444444444444,\"#bd3786\"],[0.5555555555555556,\"#d8576b\"],[0.6666666666666666,\"#ed7953\"],[0.7777777777777778,\"#fb9f3a\"],[0.8888888888888888,\"#fdca26\"],[1.0,\"#f0f921\"]],\"sequentialminus\":[[0.0,\"#0d0887\"],[0.1111111111111111,\"#46039f\"],[0.2222222222222222,\"#7201a8\"],[0.3333333333333333,\"#9c179e\"],[0.4444444444444444,\"#bd3786\"],[0.5555555555555556,\"#d8576b\"],[0.6666666666666666,\"#ed7953\"],[0.7777777777777778,\"#fb9f3a\"],[0.8888888888888888,\"#fdca26\"],[1.0,\"#f0f921\"]],\"diverging\":[[0,\"#8e0152\"],[0.1,\"#c51b7d\"],[0.2,\"#de77ae\"],[0.3,\"#f1b6da\"],[0.4,\"#fde0ef\"],[0.5,\"#f7f7f7\"],[0.6,\"#e6f5d0\"],[0.7,\"#b8e186\"],[0.8,\"#7fbc41\"],[0.9,\"#4d9221\"],[1,\"#276419\"]]},\"xaxis\":{\"gridcolor\":\"white\",\"linecolor\":\"white\",\"ticks\":\"\",\"title\":{\"standoff\":15},\"zerolinecolor\":\"white\",\"automargin\":true,\"zerolinewidth\":2},\"yaxis\":{\"gridcolor\":\"white\",\"linecolor\":\"white\",\"ticks\":\"\",\"title\":{\"standoff\":15},\"zerolinecolor\":\"white\",\"automargin\":true,\"zerolinewidth\":2},\"scene\":{\"xaxis\":{\"backgroundcolor\":\"#E5ECF6\",\"gridcolor\":\"white\",\"linecolor\":\"white\",\"showbackground\":true,\"ticks\":\"\",\"zerolinecolor\":\"white\",\"gridwidth\":2},\"yaxis\":{\"backgroundcolor\":\"#E5ECF6\",\"gridcolor\":\"white\",\"linecolor\":\"white\",\"showbackground\":true,\"ticks\":\"\",\"zerolinecolor\":\"white\",\"gridwidth\":2},\"zaxis\":{\"backgroundcolor\":\"#E5ECF6\",\"gridcolor\":\"white\",\"linecolor\":\"white\",\"showbackground\":true,\"ticks\":\"\",\"zerolinecolor\":\"white\",\"gridwidth\":2}},\"shapedefaults\":{\"line\":{\"color\":\"#2a3f5f\"}},\"annotationdefaults\":{\"arrowcolor\":\"#2a3f5f\",\"arrowhead\":0,\"arrowwidth\":1},\"geo\":{\"bgcolor\":\"white\",\"landcolor\":\"#E5ECF6\",\"subunitcolor\":\"white\",\"showland\":true,\"showlakes\":true,\"lakecolor\":\"white\"},\"title\":{\"x\":0.05},\"mapbox\":{\"style\":\"light\"}}},\"title\":{\"text\":\"Portfolio Log Returns Distribution for Different Periods\"},\"xaxis\":{\"title\":{\"text\":\"Log Returns\"}},\"yaxis\":{\"title\":{\"text\":\"Probability\"}},\"barmode\":\"overlay\"},                        {\"responsive\": true}                    ).then(function(){\n",
       "                            \n",
       "var gd = document.getElementById('d2a2e042-1c1e-4d72-9757-c4f935af914a');\n",
       "var x = new MutationObserver(function (mutations, observer) {{\n",
       "        var display = window.getComputedStyle(gd).display;\n",
       "        if (!display || display === 'none') {{\n",
       "            console.log([gd, 'removed!']);\n",
       "            Plotly.purge(gd);\n",
       "            observer.disconnect();\n",
       "        }}\n",
       "}});\n",
       "\n",
       "// Listen for the removal of the full notebook cells\n",
       "var notebookContainer = gd.closest('#notebook-container');\n",
       "if (notebookContainer) {{\n",
       "    x.observe(notebookContainer, {childList: true});\n",
       "}}\n",
       "\n",
       "// Listen for the clearing of the current output cell\n",
       "var outputEl = gd.closest('.output');\n",
       "if (outputEl) {{\n",
       "    x.observe(outputEl, {childList: true});\n",
       "}}\n",
       "\n",
       "                        })                };                });            </script>        </div>"
      ]
     },
     "metadata": {},
     "output_type": "display_data"
    }
   ],
   "source": [
    "import yfinance as yf\n",
    "import pandas as pd\n",
    "import numpy as np\n",
    "import plotly.graph_objects as go\n",
    "from scipy.stats import norm\n",
    "\n",
    "# List of tickers\n",
    "tickers = ['FRCH.L', 'IIND.L', 'BBDS.L', 'BCOG.L', 'VWRL.L', 'IUSA.L', 'GLDW.L']\n",
    "\n",
    "# Fetch data for different periods\n",
    "data_2023 = yf.download(tickers, start=\"2023-01-01\", end=\"2024-01-01\")['Adj Close']\n",
    "data_pre_2023 = yf.download(tickers, start=\"2020-01-01\", end=\"2023-01-01\")['Adj Close']\n",
    "\n",
    "# Calculate daily log returns\n",
    "log_returns_2023 = np.log(data_2023 / data_2023.shift(1)).dropna()\n",
    "log_returns_pre_2023 = np.log(data_pre_2023 / data_pre_2023.shift(1)).dropna()\n",
    "\n",
    "# Portfolio weights (example: equally weighted)\n",
    "weights = np.array([1/len(tickers)] * len(tickers))\n",
    "\n",
    "# Calculate portfolio log returns\n",
    "portfolio_log_returns_2023 = log_returns_2023.dot(weights)\n",
    "portfolio_log_returns_pre_2023 = log_returns_pre_2023.dot(weights)\n",
    "\n",
    "# Plotting the distribution of log returns for different periods\n",
    "fig = go.Figure()\n",
    "\n",
    "# Histogram of log returns for 2023\n",
    "fig.add_trace(go.Histogram(x=portfolio_log_returns_2023, nbinsx=50, name='Log Returns 2023', histnorm='probability', opacity=0.75))\n",
    "\n",
    "# Histogram of log returns for pre-2023\n",
    "fig.add_trace(go.Histogram(x=portfolio_log_returns_pre_2023, nbinsx=50, name='Log Returns Pre-2023', histnorm='probability', opacity=0.75))\n",
    "\n",
    "fig.update_layout(title='Portfolio Log Returns Distribution for Different Periods',\n",
    "                  xaxis_title='Log Returns',\n",
    "                  yaxis_title='Probability',\n",
    "                  barmode='overlay')\n",
    "\n",
    "print(f\"Parametric VaR at {confidence_level*100}% confidence level: {VaR:.2%}\")\n",
    "print(f\"Conditional VaR (CVaR) at {confidence_level*100}% confidence level: {CVaR:.2%}\")\n",
    "\n",
    "fig.show()"
   ]
  },
  {
   "cell_type": "code",
   "execution_count": null,
   "id": "8f90e069-90aa-458a-8324-408c71a40564",
   "metadata": {},
   "outputs": [],
   "source": []
  }
 ],
 "metadata": {
  "kernelspec": {
   "display_name": "Python 3 (ipykernel)",
   "language": "python",
   "name": "python3"
  },
  "language_info": {
   "codemirror_mode": {
    "name": "ipython",
    "version": 3
   },
   "file_extension": ".py",
   "mimetype": "text/x-python",
   "name": "python",
   "nbconvert_exporter": "python",
   "pygments_lexer": "ipython3",
   "version": "3.12.4"
  }
 },
 "nbformat": 4,
 "nbformat_minor": 5
}
