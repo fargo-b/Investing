{
 "cells": [
  {
   "cell_type": "markdown",
   "id": "466c9a04-1726-49ec-b283-a82ed9630dd9",
   "metadata": {},
   "source": [
    "# Portfolio Optimiser"
   ]
  },
  {
   "cell_type": "code",
   "execution_count": 29,
   "id": "601aa239-829e-4b4a-be34-8b327ad453b9",
   "metadata": {},
   "outputs": [
    {
     "data": {
      "text/html": [
       "        <script type=\"text/javascript\">\n",
       "        window.PlotlyConfig = {MathJaxConfig: 'local'};\n",
       "        if (window.MathJax && window.MathJax.Hub && window.MathJax.Hub.Config) {window.MathJax.Hub.Config({SVG: {font: \"STIX-Web\"}});}\n",
       "        if (typeof require !== 'undefined') {\n",
       "        require.undef(\"plotly\");\n",
       "        requirejs.config({\n",
       "            paths: {\n",
       "                'plotly': ['https://cdn.plot.ly/plotly-2.32.0.min']\n",
       "            }\n",
       "        });\n",
       "        require(['plotly'], function(Plotly) {\n",
       "            window._Plotly = Plotly;\n",
       "        });\n",
       "        }\n",
       "        </script>\n",
       "        "
      ]
     },
     "metadata": {},
     "output_type": "display_data"
    },
    {
     "name": "stderr",
     "output_type": "stream",
     "text": [
      "[*********************100%%**********************]  19 of 19 completed\n"
     ]
    },
    {
     "name": "stdout",
     "output_type": "stream",
     "text": [
      "Optimal Weights:\n",
      "ULVR.L: 0.0000\n",
      "BNZL.L: 0.0000\n",
      "GSK.L: 0.2340\n",
      "AZN.L: 0.0000\n",
      "BDEV.L: 0.0000\n",
      "KIE.L: 0.2584\n",
      "PSN.L: 0.0000\n",
      "TW.L: 0.1385\n",
      "TPK.L: 0.0000\n",
      "BBY.L: 0.0000\n",
      "RIO.L: 0.0000\n",
      "ANTO.L: 0.0000\n",
      "AAL.L: 0.0000\n",
      "HOC.L: 0.0000\n",
      "SGE.L: 0.1291\n",
      "CCC.L: 0.0000\n",
      "BP.L: 0.0000\n",
      "CNA.L: 0.0000\n",
      "SSE.L: 0.2401\n",
      "Expected Annual Return: 2.4251\n",
      "Expected Volatility: 0.1631\n",
      "Sharpe Ratio: 14.6037\n"
     ]
    }
   ],
   "source": [
    "# Get dependancies\n",
    "import numpy as np\n",
    "import datetime as dt\n",
    "import yfinance as yf\n",
    "import pandas as pd\n",
    "import plotly.offline as pyo\n",
    "from scipy.optimize import minimize \n",
    "from fredapi import Fred\n",
    "from plotly.subplots import make_subplots\n",
    "pyo.init_notebook_mode(connected=True)\n",
    "\n",
    "# Define tickers and time range \n",
    "stocklist = ['ULVR.L', 'BNZL.L', 'GSK.L', 'AZN.L', 'BDEV.L', 'KIE.L', \n",
    "             'PSN.L', 'TW.L', 'TPK.L', 'BBY.L', 'RIO.L', 'ANTO.L', \n",
    "             'AAL.L', 'HOC.L', 'SGE.L', 'CCC.L', 'BP.L', 'CNA.L', 'SSE.L']\n",
    "\n",
    "# Dates\n",
    "end_date = dt.datetime.now()\n",
    "start_date = dt.datetime(2000,1,1)\n",
    "\n",
    "# Grabbing data\n",
    "data = yf.download(stocklist, start=start_date, end=end_date)\n",
    "\n",
    "# Get Adjusted Close Price\n",
    "Close = data['Adj Close']\n",
    "\n",
    "# Get Log Normal returns\n",
    "log_returns = np.log(Close / Close.shift(1))\n",
    "log_returns = log_returns.dropna()\n",
    "\n",
    "# Making Covariance Matrix\n",
    "cov_matrix = log_returns.cov()*252\n",
    "\n",
    "# Calculating standard deviation\n",
    "def standard_deviation (weights, cov_matrix):\n",
    "    variance = weights.T @ cov_matrix @weights\n",
    "    return np.sqrt(variance)\n",
    "\n",
    "#  Expected returns\n",
    "def expected_return (weights, log_returns):\n",
    "    return np.sum(log_returns.mean()*weights)*(20*252)\n",
    "\n",
    "# Calculating Sharpe Ratio\n",
    "def sharpe_ratio(weights, log_returns, cov_matrix, risk_free_rate):\n",
    "    return(expected_return (weights, log_returns) - risk_free_rate) / standard_deviation (weights, cov_matrix)\n",
    "\n",
    "# Get Risk Free Rate \n",
    "fred = Fred(api_key='Your API Key)\n",
    "ten_year_treasury_rate = fred.get_series_latest_release('GS10') / 100\n",
    "\n",
    "risk_free_rate = ten_year_treasury_rate.iloc[-1]\n",
    "\n",
    "# Define the function to minimize (negative Sharpe Ratio)\n",
    "def neg_sharpe_ratio(weights, log_returns, cov_matrix, risk_free_rate):\n",
    "    return -sharpe_ratio(weights, log_returns, cov_matrix, risk_free_rate)\n",
    "\n",
    "# Setting constraints and bounds \n",
    "constraints = {'type': 'eq', 'fun': lambda weights: np.sum(weights)-1}\n",
    "bounds = [(0, 0.30) for _ in range(len(stocklist))]\n",
    "\n",
    "# Setting the initial equal weights\n",
    "initial_weights = np.array([1/len(stocklist)]*len(stocklist))\n",
    "\n",
    "# Optimising for max Sharpe Ratio\n",
    "optimised_results = minimize(neg_sharpe_ratio, initial_weights, args=(log_returns, cov_matrix, risk_free_rate), method= 'SLSQP', constraints=constraints, bounds=bounds)\n",
    "optimal_weights = optimised_results.x\n",
    "\n",
    "# Displaying the Optimal Portfolio\n",
    "print (\"Optimal Weights:\")\n",
    "for stocklist, weight in zip(stocklist, optimal_weights):\n",
    "    print(f\"{stocklist}: {weight:.4f}\")\n",
    "\n",
    "optimal_portfolio_return = expected_return(optimal_weights, log_returns)\n",
    "optimal_portfolio_volatility = standard_deviation(optimal_weights, cov_matrix)\n",
    "optimal_sharpe_ratio = sharpe_ratio(optimal_weights, log_returns, cov_matrix, risk_free_rate)\n",
    "\n",
    "print(f\"Expected Annual Return: {optimal_portfolio_return:.4f}\")\n",
    "print(f\"Expected Volatility: {optimal_portfolio_volatility:.4f}\")\n",
    "print(f\"Sharpe Ratio: {optimal_sharpe_ratio:.4f}\")\n",
    "\n"
   ]
  },
  {
   "cell_type": "code",
   "execution_count": null,
   "id": "cccf9b6d-2edf-4b88-b599-fc67f8764760",
   "metadata": {},
   "outputs": [],
   "source": []
  }
 ],
 "metadata": {
  "kernelspec": {
   "display_name": "Python 3 (ipykernel)",
   "language": "python",
   "name": "python3"
  },
  "language_info": {
   "codemirror_mode": {
    "name": "ipython",
    "version": 3
   },
   "file_extension": ".py",
   "mimetype": "text/x-python",
   "name": "python",
   "nbconvert_exporter": "python",
   "pygments_lexer": "ipython3",
   "version": "3.12.4"
  }
 },
 "nbformat": 4,
 "nbformat_minor": 5
}
